{
 "cells": [
  {
   "cell_type": "markdown",
   "metadata": {},
   "source": [
    "# Acquisition of the raw ultrasound image \n",
    "\n",
    "Taking advantage of a Vref/2 offset at the ADC level"
   ]
  },
  {
   "cell_type": "code",
   "execution_count": 1,
   "metadata": {
    "collapsed": false
   },
   "outputs": [],
   "source": [
    "import matplotlib.pyplot as plt\n",
    "import numpy as np\n",
    "from scipy import signal\n",
    "import scipy.signal.signaltools as sigtool\n",
    "from scipy.interpolate import griddata\n",
    "import math"
   ]
  },
  {
   "cell_type": "code",
   "execution_count": 79,
   "metadata": {
    "collapsed": true
   },
   "outputs": [],
   "source": [
    "def CreateSeries(File,FreqRef):\n",
    "\n",
    "    with open(File) as f:\n",
    "        content = f.readlines()\n",
    "    # you may also want to remove whitespace characters like `\\n` at the end of each line\n",
    "    V = [x.strip().split(\"\\t\")[1] for x in content] \n",
    "    V = np.array(V).astype(np.int)\n",
    "    t = [x.strip().split(\"\\t\")[0] for x in content]\n",
    "    t = np.array(t).astype(np.float)/FreqRef\n",
    "    MaxT = t[-1]*FreqRef\n",
    "\n",
    "    return t,V,MaxT\n",
    "\n",
    "\n",
    "ADC2_GPIO = [20,26,16,19,13,12, 7, 8,11]\n",
    "ADC2len = len(ADC2_GPIO)\n",
    "\n",
    "\n",
    "def GetV2(Volts):\n",
    "    Signal = []\n",
    "    GP = []\n",
    "    Clock = []\n",
    "    Map = np.zeros((len(V),ADC2len), dtype=np.int)\n",
    "    for i in range(len(Volts)):\n",
    "        val = V[i]\n",
    "        SignalZero = 0\n",
    "        for k in range(ADC2len):\n",
    "            Map[i][k] = (val & 2**k)/2**k\n",
    "        for k in range(ADC2len):\n",
    "            SignalZero += 2**k*((val & 2**ADC2_GPIO[k])/2**ADC2_GPIO[k])\n",
    "        Signal.append(SignalZero)\n",
    "        Clock.append(1*((val & 2**21)/2**21))\n",
    "        GP.append( 1*((val & 2**6)/2**6) )\n",
    "    return Signal,Map,GP,Clock"
   ]
  },
  {
   "cell_type": "code",
   "execution_count": 80,
   "metadata": {
    "collapsed": false
   },
   "outputs": [
    {
     "name": "stdout",
     "output_type": "stream",
     "text": [
      "9401820.0\n",
      "100000\n"
     ]
    }
   ],
   "source": [
    "t,V,MaxT = CreateSeries(\"probe.data\",10000000)\n",
    "print MaxT\n",
    "print len(V)"
   ]
  },
  {
   "cell_type": "code",
   "execution_count": 83,
   "metadata": {
    "collapsed": false
   },
   "outputs": [
    {
     "ename": "TypeError",
     "evalue": "unsupported operand type(s) for /: 'list' and 'float'",
     "output_type": "error",
     "traceback": [
      "\u001b[0;31m---------------------------------------------------------------------------\u001b[0m",
      "\u001b[0;31mTypeError\u001b[0m                                 Traceback (most recent call last)",
      "\u001b[0;32m<ipython-input-83-42d9e637cc3c>\u001b[0m in \u001b[0;36m<module>\u001b[0;34m()\u001b[0m\n\u001b[1;32m      2\u001b[0m \u001b[0mGP\u001b[0m \u001b[0;34m=\u001b[0m \u001b[0mGetV2\u001b[0m\u001b[0;34m(\u001b[0m\u001b[0mV\u001b[0m\u001b[0;34m)\u001b[0m\u001b[0;34m[\u001b[0m\u001b[0;36m2\u001b[0m\u001b[0;34m]\u001b[0m\u001b[0;34m\u001b[0m\u001b[0m\n\u001b[1;32m      3\u001b[0m \u001b[0mCLK\u001b[0m \u001b[0;34m=\u001b[0m \u001b[0mGetV2\u001b[0m\u001b[0;34m(\u001b[0m\u001b[0mV\u001b[0m\u001b[0;34m)\u001b[0m\u001b[0;34m[\u001b[0m\u001b[0;36m3\u001b[0m\u001b[0;34m]\u001b[0m\u001b[0;34m\u001b[0m\u001b[0m\n\u001b[0;32m----> 4\u001b[0;31m \u001b[0mplt\u001b[0m\u001b[0;34m.\u001b[0m\u001b[0mplot\u001b[0m\u001b[0;34m(\u001b[0m\u001b[0mM\u001b[0m\u001b[0;34m[\u001b[0m\u001b[0;36m0\u001b[0m\u001b[0;34m:\u001b[0m\u001b[0;36m15000\u001b[0m\u001b[0;34m]\u001b[0m\u001b[0;34m/\u001b[0m\u001b[0;36m400.0\u001b[0m\u001b[0;34m,\u001b[0m\u001b[0;34m\"b\"\u001b[0m\u001b[0;34m)\u001b[0m\u001b[0;34m\u001b[0m\u001b[0m\n\u001b[0m\u001b[1;32m      5\u001b[0m \u001b[0;34m\u001b[0m\u001b[0m\n\u001b[1;32m      6\u001b[0m \u001b[0mplt\u001b[0m\u001b[0;34m.\u001b[0m\u001b[0mshow\u001b[0m\u001b[0;34m(\u001b[0m\u001b[0;34m)\u001b[0m\u001b[0;34m\u001b[0m\u001b[0m\n",
      "\u001b[0;31mTypeError\u001b[0m: unsupported operand type(s) for /: 'list' and 'float'"
     ]
    }
   ],
   "source": [
    "M = GetV2(V)[0]\n",
    "GP = GetV2(V)[2]\n",
    "CLK = GetV2(V)[3]\n",
    "plt.plot(M[0:15000],\"b\")\n",
    "\n",
    "plt.show()\n",
    "# 5000 x 20"
   ]
  },
  {
   "cell_type": "code",
   "execution_count": 85,
   "metadata": {
    "collapsed": false
   },
   "outputs": [
    {
     "data": {
      "image/png": "[encoded data removed]",
      "text/plain": [
       "<matplotlib.figure.Figure at 0x7f5c7d910f10>"
      ]
     },
     "metadata": {},
     "output_type": "display_data"
    }
   ],
   "source": [
    "plt.plot(CLK[15000:45000],\"r\")\n",
    "plt.show()"
   ]
  },
  {
   "cell_type": "code",
   "execution_count": null,
   "metadata": {
    "collapsed": true
   },
   "outputs": [],
   "source": []
  }
 ],
 "metadata": {
  "kernelspec": {
   "display_name": "Python 2",
   "language": "python",
   "name": "python2"
  },
  "language_info": {
   "codemirror_mode": {
    "name": "ipython",
    "version": 2
   },
   "file_extension": ".py",
   "mimetype": "text/x-python",
   "name": "python",
   "nbconvert_exporter": "python",
   "pygments_lexer": "ipython2",
   "version": "2.7.12"
  }
 },
 "nbformat": 4,
 "nbformat_minor": 2
}
