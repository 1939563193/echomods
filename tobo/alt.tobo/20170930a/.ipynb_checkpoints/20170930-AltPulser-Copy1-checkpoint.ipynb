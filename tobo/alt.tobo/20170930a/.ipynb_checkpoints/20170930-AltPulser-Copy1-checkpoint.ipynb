{
 "cells": [
  {
   "cell_type": "code",
   "execution_count": 8,
   "metadata": {
    "collapsed": false
   },
   "outputs": [
    {
     "name": "stdout",
     "output_type": "stream",
     "text": [
      "0.261625544285\n"
     ]
    }
   ],
   "source": [
    "import numpy as np\n",
    "import matplotlib.pyplot as plt\n",
    "from scipy.interpolate import griddata\n",
    "import math\n",
    "\n",
    "RawData = \"tmp0-75.DAT\"\n",
    "f = open(RawData, \"r\")\n",
    "a = np.fromfile(f, dtype=np.uint32)\n",
    "t = a[-1]\n",
    "V = a[:-1].copy()\n",
    "\n",
    "Fech = 1000.0*len(V)/t # in MHz\n",
    "\n",
    "Fech = 1000.0*len(V)/t # in MHz\n",
    "print Fech\n",
    "\n"
   ]
  },
  {
   "cell_type": "code",
   "execution_count": 9,
   "metadata": {
    "collapsed": true
   },
   "outputs": [],
   "source": [
    "#ADC1_pins = [21,22,19,15,13,11,12,10, 8]\n",
    "ADC1_pins = [21,22,19,15,13,11,12,10, 8]\n",
    "ADC2_pins = [38,37,36,35,33,32,26,24,23]\n",
    "\n",
    "#ADC1_GPIO = [9, 25,10,22,27,17,18,15,14]\n",
    "ADC1_GPIO =  [9 ,25,10,22,27,17,18,15,14]\n",
    "\n",
    "ADC2_GPIO = [20,26,16,19,13,12, 7, 8,11]\n",
    "\n",
    "ADC1len = len(ADC1_GPIO)\n",
    "ADC2len = len(ADC2_GPIO)\n",
    "\n",
    "\n",
    "def GetV2(Volts):\n",
    "    Signal = []\n",
    "    Map = np.zeros((len(V),ADC2len), dtype=np.int)\n",
    "    for i in range(len(Volts)):\n",
    "        val = int(V[i])\n",
    "        SignalZero = 0\n",
    "        for k in range(ADC2len):\n",
    "            Map[i][k] = (val & 2**k)/2**k\n",
    "        for k in range(ADC2len):\n",
    "            SignalZero += 2**k*((val & 2**ADC2_GPIO[k])/2**ADC2_GPIO[k])\n",
    "        Signal.append(SignalZero)\n",
    "\n",
    "            \n",
    "    return Signal,Map\n",
    "\n",
    "\n",
    "\n",
    "def GetV1(Volts):\n",
    "    Signal = []\n",
    "    Map = np.zeros((len(V),ADC1len), dtype=np.int)\n",
    "    for i in range(len(Volts)):\n",
    "        val = int(V[i])\n",
    "        SignalZero = 0\n",
    "        for k in range(ADC1len):\n",
    "            Map[i][k] = (val & 2**k)/2**k\n",
    "        for k in range(ADC1len):\n",
    "            SignalZero += 2**k*((val & 2**ADC1_GPIO[k])/2**ADC1_GPIO[k])\n",
    "        Signal.append(SignalZero)\n",
    "\n",
    "            \n",
    "    return Signal,Map"
   ]
  },
  {
   "cell_type": "code",
   "execution_count": 10,
   "metadata": {
    "collapsed": false
   },
   "outputs": [],
   "source": [
    "M = GetV2(V)[0]\n",
    "M2 = GetV1(V)[0]\n",
    "Ma = M - np.average(M[5000:7000])\n",
    "Mb = M2 - np.average(M2[5000:7000])"
   ]
  },
  {
   "cell_type": "code",
   "execution_count": 11,
   "metadata": {
    "collapsed": false
   },
   "outputs": [],
   "source": [
    "rawSig = []\n",
    "for k in range(len(Ma)):\n",
    "    rawSig.append(Mb[k])\n",
    "    rawSig.append(Ma[k])\n",
    "rawSig = rawSig - np.average(rawSig)"
   ]
  },
  {
   "cell_type": "code",
   "execution_count": 12,
   "metadata": {
    "collapsed": false,
    "scrolled": true
   },
   "outputs": [
    {
     "data": {
      "text/plain": [
       "<matplotlib.figure.Figure at 0x7f3cb62cce90>"
      ]
     },
     "metadata": {},
     "output_type": "display_data"
    },
    {
     "data": {
      "image/png": "[encoded data removed]",
      "text/plain": [
       "<matplotlib.figure.Figure at 0x7f3cb692e490>"
      ]
     },
     "metadata": {},
     "output_type": "display_data"
    }
   ],
   "source": [
    "plt.figure(figsize=(15,5))\n",
    "plt.plot(rawSig[0:3000],\"r\") \n",
    "#plt.savefig('datas_'+RawData.split(\"/\")[-1]+'.jpg', bbox_inches='tight')\n",
    "plt.show()"
   ]
  },
  {
   "cell_type": "code",
   "execution_count": null,
   "metadata": {
    "collapsed": false
   },
   "outputs": [],
   "source": []
  },
  {
   "cell_type": "code",
   "execution_count": null,
   "metadata": {
    "collapsed": true
   },
   "outputs": [],
   "source": [
    "#"
   ]
  },
  {
   "cell_type": "code",
   "execution_count": null,
   "metadata": {
    "collapsed": true
   },
   "outputs": [],
   "source": []
  }
 ],
 "metadata": {
  "kernelspec": {
   "display_name": "Python 2",
   "language": "python",
   "name": "python2"
  },
  "language_info": {
   "codemirror_mode": {
    "name": "ipython",
    "version": 2
   },
   "file_extension": ".py",
   "mimetype": "text/x-python",
   "name": "python",
   "nbconvert_exporter": "python",
   "pygments_lexer": "ipython2",
   "version": "2.7.12"
  }
 },
 "nbformat": 4,
 "nbformat_minor": 2
}
