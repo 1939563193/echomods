{
 "cells": [
  {
   "cell_type": "markdown",
   "metadata": {},
   "source": [
    "# `20180812a` - Checking Kretz probe - servo - server"
   ]
  },
  {
   "cell_type": "code",
   "execution_count": 2,
   "metadata": {
    "collapsed": false
   },
   "outputs": [],
   "source": [
    "#!/usr/bin/python\n",
    "import spidev\n",
    "#import RPi.GPIO as GPIO\n",
    "import time\n",
    "import numpy as np\n",
    "import matplotlib\n",
    "matplotlib.use('Agg')\n",
    "import matplotlib.pyplot as plt\n",
    "import json\n",
    "import time\n",
    "from pyUn0 import *\n",
    "%matplotlib inline"
   ]
  },
  {
   "cell_type": "markdown",
   "metadata": {},
   "source": [
    "## Now inline viz can be done"
   ]
  },
  {
   "cell_type": "code",
   "execution_count": 17,
   "metadata": {
    "collapsed": false
   },
   "outputs": [
    {
     "data": {
      "image/png": "[encoded data removed]",
      "text/plain": [
       "<matplotlib.figure.Figure at 0xae891a30>"
      ]
     },
     "metadata": {},
     "output_type": "display_data"
    }
   ],
   "source": [
    "plt.plot(np.random.sample(100));\n",
    "plt.show()"
   ]
  },
  {
   "cell_type": "code",
   "execution_count": 2,
   "metadata": {
    "collapsed": true
   },
   "outputs": [],
   "source": [
    "x = us_spi()\n",
    "x.JSON = {}\n",
    "x.JSON[\"firmware_md5\"]=\"fa6a7560ade6d6b1149b6e78e0de051f\"\n",
    "x.JSON[\"firmware_version\"]=\"e_un0\"\n",
    "x.JSON[\"data\"]=[]\n",
    "x.JSON[\"registers\"]={}\n",
    "x.JSON[\"experiment\"]={}\n",
    "x.JSON[\"parameters\"]={}\n",
    "x.JSON[\"experiment\"][\"id\"] = \"20180812a\"\n",
    "x.JSON[\"experiment\"][\"description\"]=\"Testing the kretz probe\"\n",
    "x.JSON[\"experiment\"][\"probe\"]=\"kretz\"\n",
    "x.JSON[\"experiment\"][\"target\"] = \"pu in bottom of water mug\"\n",
    "x.JSON[\"experiment\"][\"position\"] = \"na\"\n",
    "x.JSON[\"V\"]=\"48\""
   ]
  },
  {
   "cell_type": "code",
   "execution_count": 3,
   "metadata": {
    "collapsed": false
   },
   "outputs": [
    {
     "name": "stderr",
     "output_type": "stream",
     "text": [
      "pyUn0.py:101: RuntimeWarning: This channel is already in use, continuing anyway.  Use GPIO.setwarnings(False) to disable warnings.\n",
      "  GPIO.setup(CS_FLASH,GPIO.OUT)\n"
     ]
    },
    {
     "name": "stdout",
     "output_type": "stream",
     "text": [
      "Reset GPIO 23 - Low 1s\n",
      "Reset GPIO 23 - High 0.2s\n",
      "spi.cshigh is False\n",
      "spi mode is 1\n",
      "spi maxspeed is 2000000hz\n",
      "Pulse width: 200  ns --  0x14\n",
      "Pulses delay: 100  ns --  0xa\n",
      "Poff: 2000  ns --  0x0 0xc8\n",
      "Delay between: 7000 ns --  0x2 0xbc\n",
      "Config FPGA done!\n"
     ]
    }
   ],
   "source": [
    "x.StartUp()\n",
    "x.ConfigSPI()\n",
    "\n",
    "# Setting acquition speed\n",
    "f = 7 # That's for 8Msps\n",
    "x.WriteFPGA(0xED,f) # Frequency of ADC acquisition / sEEADC_freq (3 = 16Msps, 1 = 32, 0 = 64, 2 = 21Msps)\n",
    "\n",
    "x.WriteFPGA(0xEB,1) # Doing one line if 0, several if 1\n",
    "\n",
    "NLines = 800\n",
    "\n",
    "x.WriteFPGA(0xEC,NLines) # Doing 700 lines\n",
    "\n",
    "Fech = int(64/((1+f)))\n"
   ]
  },
  {
   "cell_type": "code",
   "execution_count": 4,
   "metadata": {
    "collapsed": true
   },
   "outputs": [],
   "source": [
    "x.JSON[\"N\"] = 10 # Experiment ID"
   ]
  },
  {
   "cell_type": "code",
   "execution_count": 11,
   "metadata": {
    "collapsed": true
   },
   "outputs": [],
   "source": [
    "NLines = 300\n",
    "x.WriteFPGA(0xEC,NLines) # Doing 800 lines\n",
    "f = 2\n",
    "x.WriteFPGA(0xED,f) # Frequency of ADC acquisition / sEEADC_freq (3 = 16Msps, 1 = 32, 0 = 64, 2 = 21Msps)\n",
    "Fech = int(64/((1+f)))"
   ]
  },
  {
   "cell_type": "code",
   "execution_count": 13,
   "metadata": {
    "collapsed": false
   },
   "outputs": [
    {
     "name": "stdout",
     "output_type": "stream",
     "text": [
      "Period between two acquisitions: 100000 us -- 0x1 0x86 0xa0\n",
      "72 453600\n",
      "Pulse width: 200  ns --  0x14\n",
      "Pulses delay: 300  ns --  0x1e\n",
      "Poff: 2500  ns --  0x0 0xfa\n",
      "Delay between: 13700 ns --  0x5 0x5a\n",
      "Acquisition length:  101700  us --  0x27 0xba\n"
     ]
    },
    {
     "data": {
      "text/plain": [
       "101700"
      ]
     },
     "execution_count": 13,
     "metadata": {},
     "output_type": "execute_result"
    }
   ],
   "source": [
    "# Timings\n",
    "WaitTill = 13000\n",
    "t1 = 200\n",
    "t2 = 100\n",
    "t3 = 2000\n",
    "t4 = WaitTill-t1-t2-t3 # 20us delay before acquisition\n",
    "t5 = 85000 # 80us acquisition\n",
    "\n",
    "x.setPeriodAcq(1000*1000) #1000 us delays\n",
    "\n",
    "LAcq = (t5-WaitTill)/1000 #ns to us \n",
    "\n",
    "Nacq = LAcq * Fech * NLines\n",
    "print LAcq,Nacq\n",
    "# Setting up the DAC, from 50mV to 850mv\n",
    "Curve = x.CreateDACCurve(300,800,True)[0]\n",
    "x.setDACCurve(Curve)\n",
    "# Setting pulses\n",
    "x.setPulseTrain(t1,t2,t3,t4,t5)"
   ]
  },
  {
   "cell_type": "code",
   "execution_count": 15,
   "metadata": {
    "collapsed": false
   },
   "outputs": [
    {
     "name": "stdout",
     "output_type": "stream",
     "text": [
      "0%\n",
      "10%\n",
      "20%\n",
      "30%\n",
      "40%\n",
      "50%\n",
      "60%\n",
      "70%\n",
      "80%\n",
      "90%\n",
      "100%\n",
      "Took 96.62 seconds to transfer.\n",
      "for 907201 transfers of data\n",
      "20180812a-12.json:  DONE\n"
     ]
    }
   ],
   "source": [
    "x.JSON[\"N\"] = x.JSON[\"N\"] +1\n",
    "x.JSON[\"experiment\"][\"target\"] = \"Wirephantom\"\n",
    "# Trigger\n",
    "x.WriteFPGA(0xEF,0x01) # Cleaning memory pointer\n",
    "x.WriteFPGA(0xEA,0x01) # Software Trig : As to be clear by software\n",
    "\n",
    "A = []\n",
    "\n",
    "milestone = Nacq / 5\n",
    "\n",
    "start = time.time()\n",
    "for i in range(2*Nacq+1):\n",
    "    A.append ( x.spi.xfer([0x00] )[0] )\n",
    "    if not (i%milestone):\n",
    "        print str((50*i)/Nacq)+\"%\"\n",
    "end = time.time()\n",
    "delta = end - start\n",
    "print \"Took %.2f seconds to transfer.\" % delta \n",
    "print \"for \"+str(2*Nacq+1)+\" transfers of data\"\n",
    "\n",
    "a = np.asarray(A).astype(np.int16)\n",
    "\n",
    "\n",
    "x.JSON[\"data\"] = A\n",
    "\n",
    "with open(x.JSON[\"experiment\"][\"id\"]+\"-\"+str(x.JSON[\"N\"])+\".json\", 'w') as outfile:\n",
    "    json.dump(x.JSON, outfile)\n",
    "    \n",
    "print x.JSON[\"experiment\"][\"id\"]+\"-\"+str(x.JSON[\"N\"])+\".json:  DONE\""
   ]
  },
  {
   "cell_type": "code",
   "execution_count": null,
   "metadata": {
    "collapsed": true
   },
   "outputs": [],
   "source": []
  },
  {
   "cell_type": "code",
   "execution_count": null,
   "metadata": {
    "collapsed": true
   },
   "outputs": [],
   "source": []
  },
  {
   "cell_type": "code",
   "execution_count": null,
   "metadata": {
    "collapsed": true
   },
   "outputs": [],
   "source": []
  }
 ],
 "metadata": {
  "kernelspec": {
   "display_name": "Python 2",
   "language": "python",
   "name": "python2"
  },
  "language_info": {
   "codemirror_mode": {
    "name": "ipython",
    "version": 2
   },
   "file_extension": ".py",
   "mimetype": "text/x-python",
   "name": "python",
   "nbconvert_exporter": "python",
   "pygments_lexer": "ipython2",
   "version": "2.7.12"
  }
 },
 "nbformat": 4,
 "nbformat_minor": 2
}
