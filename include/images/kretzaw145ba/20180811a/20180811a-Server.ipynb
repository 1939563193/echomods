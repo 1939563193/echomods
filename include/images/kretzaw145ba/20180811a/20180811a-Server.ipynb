{
 "cells": [
  {
   "cell_type": "markdown",
   "metadata": {},
   "source": [
    "# `20180811a` - Checking Kretz probe - server"
   ]
  },
  {
   "cell_type": "code",
   "execution_count": 1,
   "metadata": {
    "collapsed": false
   },
   "outputs": [
    {
     "name": "stdout",
     "output_type": "stream",
     "text": [
      "pyexiv2 does not exist on RPi\n"
     ]
    }
   ],
   "source": [
    "#!/usr/bin/python\n",
    "import spidev\n",
    "import RPi.GPIO as GPIO\n",
    "import time\n",
    "import numpy as np\n",
    "import matplotlib\n",
    "matplotlib.use('Agg')\n",
    "import matplotlib.pyplot as plt\n",
    "import json\n",
    "import time\n",
    "from pyUn0 import *"
   ]
  },
  {
   "cell_type": "code",
   "execution_count": 2,
   "metadata": {
    "collapsed": true
   },
   "outputs": [],
   "source": [
    "x = us_spi()\n",
    "x.JSON = {}\n",
    "x.JSON[\"firmware_md5\"]=\"fa6a7560ade6d6b1149b6e78e0de051f\"\n",
    "x.JSON[\"firmware_version\"]=\"e_un0\"\n",
    "x.JSON[\"data\"]=[]\n",
    "x.JSON[\"registers\"]={}\n",
    "x.JSON[\"parameters\"]={}\n",
    "x.JSON[\"experiment\"]={} = \"20180811a\"\n",
    "x.JSON[\"experiment\"][\"description\"]=\"Testing several wires\"\n",
    "x.JSON[\"experiment\"][\"probe\"]=\"test aw\"\n",
    "x.JSON[\"experiment\"][\"target\"] = \"none\"\n",
    "x.JSON[\"experiment\"][\"position\"] = \"0\"\n",
    "x.JSON[\"V\"]=\"48\""
   ]
  },
  {
   "cell_type": "code",
   "execution_count": 3,
   "metadata": {
    "collapsed": false
   },
   "outputs": [
    {
     "name": "stderr",
     "output_type": "stream",
     "text": [
      "pyUn0.py:102: RuntimeWarning: This channel is already in use, continuing anyway.  Use GPIO.setwarnings(False) to disable warnings.\n",
      "  GPIO.setup(CS_FLASH,GPIO.OUT)\n"
     ]
    },
    {
     "name": "stdout",
     "output_type": "stream",
     "text": [
      "Reset GPIO 23 - Low 1s\n",
      "Reset GPIO 23 - High 0.2s\n",
      "spi.cshigh is False\n",
      "spi mode is 1\n",
      "spi maxspeed is 2000000hz\n",
      "Pulse width: 200  ns --  0x19\n",
      "Pulses delay: 100  ns --  0xc\n",
      "Poff: 2000  ns --  0x1 0x0\n",
      "Delay between: 7000 ns --  0x3 0x80\n",
      "Config FPGA done!\n"
     ]
    }
   ],
   "source": [
    "x.StartUp()\n",
    "x.ConfigSPI()\n",
    "\n",
    "# Setting acquition speed\n",
    "f = 0x00\n",
    "x.WriteFPGA(0xED,f) # Frequency of ADC acquisition / sEEADC_freq (3 = 16Msps, 1 = 32, 0 = 64, 2 = 21Msps)\n",
    "\n",
    "x.WriteFPGA(0xEB,0x00) # Doing one line if 0, several if 1\n",
    "x.WriteFPGA(0xEC,0x01) # Doing 1 lines\n",
    "if x.JSON[\"registers\"][235]: # means it's set to 1, ie that's multiples lines\n",
    "    NLines = x.JSON[\"registers\"][236]\n",
    "else:\n",
    "    NLines = 1\n",
    "\n",
    "Fech = int(64/((1+f)))\n"
   ]
  },
  {
   "cell_type": "code",
   "execution_count": 13,
   "metadata": {
    "collapsed": false
   },
   "outputs": [
    {
     "name": "stdout",
     "output_type": "stream",
     "text": [
      "Pulse width: 200  ns --  0x19\n",
      "Pulses delay: 295  ns --  0x25\n",
      "Poff: 2484  ns --  0x1 0x3d\n",
      "Delay between: 3660 ns --  0x1 0xd4\n",
      "Acquisition length:  3385.088  us --  0x67 0x4e\n"
     ]
    },
    {
     "data": {
      "text/plain": [
       "206609"
      ]
     },
     "execution_count": 13,
     "metadata": {},
     "output_type": "execute_result"
    }
   ],
   "source": [
    "x.JSON[\"N\"] = 0 # Experiment ID\n",
    "\n",
    "# Timings\n",
    "t1 = 200\n",
    "t2 = 100\n",
    "t3 = 2000\n",
    "t4 = 3000-t1-t2-t3\n",
    "t5 = 200000\n",
    "\n",
    "LAcq = t5/1000 #ns to us \n",
    "Nacq = LAcq * Fech * NLines\n",
    "\n",
    "# Setting up the DAC, from 50mV to 850mv\n",
    "Curve = x.CreateDACCurve(200,800,True)[0]\n",
    "x.setDACCurve(Curve)\n",
    "# Setting pulses\n",
    "x.setPulseTrain(t1,t2,t3,t4,t5)"
   ]
  },
  {
   "cell_type": "code",
   "execution_count": 20,
   "metadata": {
    "collapsed": false
   },
   "outputs": [
    {
     "name": "stdout",
     "output_type": "stream",
     "text": [
      "20180811a-7.json:  DONE\n"
     ]
    }
   ],
   "source": [
    "x.JSON[\"N\"] = x.JSON[\"N\"] +1\n",
    "# Trigger\n",
    "x.WriteFPGA(0xEF,0x01) # Cleaning memory pointer\n",
    "x.WriteFPGA(0xEA,0x01) # Software Trig : As to be clear by software\n",
    "\n",
    "A = []\n",
    "for i in range(2*Nacq+1):\n",
    "    A.append ( x.spi.xfer([0x00] )[0] )\n",
    "a = np.asarray(A).astype(np.int16)\n",
    "\n",
    "x.JSON[\"data\"] = A\n",
    "\n",
    "x.JSON[\"experiment\"][\"description\"]=\"Testing yellow coax\"\n",
    "\n",
    "with open(x.JSON[\"experiment\"][\"id\"]+str(x.JSON[\"N\"])+\".json\", 'w') as outfile:\n",
    "    json.dump(x.JSON, outfile)\n",
    "    \n",
    "print x.JSON[\"experiment\"][\"id\"]+\"-\"+str(x.JSON[\"N\"])+\".json:  DONE\""
   ]
  },
  {
   "cell_type": "code",
   "execution_count": null,
   "metadata": {
    "collapsed": true
   },
   "outputs": [],
   "source": []
  }
 ],
 "metadata": {
  "kernelspec": {
   "display_name": "Python 2",
   "language": "python",
   "name": "python2"
  },
  "language_info": {
   "codemirror_mode": {
    "name": "ipython",
    "version": 2
   },
   "file_extension": ".py",
   "mimetype": "text/x-python",
   "name": "python",
   "nbconvert_exporter": "python",
   "pygments_lexer": "ipython2",
   "version": "2.7.12"
  }
 },
 "nbformat": 4,
 "nbformat_minor": 2
}
