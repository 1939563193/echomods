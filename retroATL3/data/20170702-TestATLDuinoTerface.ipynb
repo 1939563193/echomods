{
 "cells": [
  {
   "cell_type": "code",
   "execution_count": 1,
   "metadata": {
    "collapsed": true
   },
   "outputs": [],
   "source": [
    "import matplotlib.pyplot as plt\n",
    "import numpy as np\n",
    "SaveFileZ = \"ATLDATA.npz\"\n",
    "\n",
    "def CreateSeries(File,FreqRef):\n",
    "\n",
    "    with open(File) as f:\n",
    "        content = f.readlines()\n",
    "    # you may also want to remove whitespace characters like `\\n` at the end of each line\n",
    "    V = [x.strip().split(\"\\t\")[1] for x in content] \n",
    "    V = np.array(V).astype(np.int)\n",
    "    t = [x.strip().split(\"\\t\")[0] for x in content]\n",
    "    t = np.array(t).astype(np.float)/FreqRef\n",
    "    MaxT = t[-1]*FreqRef\n",
    "\n",
    "    return t,V,MaxT\n",
    "\n",
    "\n",
    "def GetV1(Volts):\n",
    "    \n",
    "    Map = np.zeros((len(V),34), dtype=np.int)\n",
    "    for i in range(len(Volts)):\n",
    "        val = V[i]\n",
    "        for k in range(34):\n",
    "            Map[i][k] = (val & 2**k)/2**k\n",
    "\n",
    "    return Map"
   ]
  },
  {
   "cell_type": "code",
   "execution_count": 3,
   "metadata": {
    "collapsed": false
   },
   "outputs": [],
   "source": [
    "AlreadCreated = True\n",
    "if AlreadCreated:\n",
    "    npzfile = np.load(SaveFileZ)\n",
    "    D1 = npzfile['D1']\n",
    "    D2 = npzfile['D2']\n",
    "    t  = npzfile['t']\n",
    "\n",
    "else:    \n",
    "    t,V,MaxT = CreateSeries(\"test3.atl3\",10000000)\n",
    "    Map = np.asarray(GetV1(V), dtype=bool)\n",
    "    D1 = np.transpose(Map)[6]\n",
    "    D2 = np.transpose(Map)[21]\n",
    "    x = np.arange(len(D1))\n",
    "    f = MaxT/len(t)\n",
    "    fAcq = 1/f*1000\n",
    "    print \"Acquisition freq is: \"+str(fAcq)+\" MHz\"\n"
   ]
  },
  {
   "cell_type": "markdown",
   "metadata": {},
   "source": [
    "### Difficult to find the beginning of a number in stream"
   ]
  },
  {
   "cell_type": "code",
   "execution_count": 4,
   "metadata": {
    "collapsed": false
   },
   "outputs": [
    {
     "data": {
      "image/png": "[encoded data removed]",
      "text/plain": [
       "<matplotlib.figure.Figure at 0x7f52c9a12590>"
      ]
     },
     "metadata": {},
     "output_type": "display_data"
    }
   ],
   "source": [
    "plt.fill(t[145000:171000],D1[145000:171000],\"r\")\n",
    "plt.fill(t[145000:171000],D2[145000:171000],\"b\")\n",
    "plt.show()"
   ]
  },
  {
   "cell_type": "markdown",
   "metadata": {},
   "source": [
    "## Width of the pulse reads nicely"
   ]
  },
  {
   "cell_type": "code",
   "execution_count": 5,
   "metadata": {
    "collapsed": false
   },
   "outputs": [
    {
     "data": {
      "image/png": "[encoded data removed]",
      "text/plain": [
       "<matplotlib.figure.Figure at 0x7f52ca3a7a90>"
      ]
     },
     "metadata": {},
     "output_type": "display_data"
    }
   ],
   "source": [
    "plt.fill(t[145000:150000],D1[145000:150000],\"r\")\n",
    "plt.fill(t[145000:150000],D2[145000:150000],\"b\")\n",
    "plt.show()"
   ]
  },
  {
   "cell_type": "code",
   "execution_count": 6,
   "metadata": {
    "collapsed": false
   },
   "outputs": [
    {
     "name": "stdout",
     "output_type": "stream",
     "text": [
      "Width of a pulse is: 196 pixels\n",
      "Width of a pulse is 17.4999825 microsecond\n",
      "There are 6 bits of info per pulse, a sequence lasts 209.99979us\n"
     ]
    }
   ],
   "source": [
    "MaxT = t[-1]\n",
    "f = MaxT/len(t)\n",
    "fAcq = 1/f\n",
    "\n",
    "widthPulse = np.sum(D1[145000:150000])/2\n",
    "print \"Width of a pulse is: \"+str(widthPulse)+\" pixels\"\n",
    "print \"Width of a pulse is \"+str(widthPulse/fAcq)+\" microsecond\"\n",
    "\n",
    "print \"There are 6 bits of info per pulse, a sequence lasts \"+str(6*2*widthPulse/fAcq)+ \"us\""
   ]
  },
  {
   "cell_type": "markdown",
   "metadata": {},
   "source": [
    "# testing the counter\n",
    "\n",
    "It seems we need something to clear the signal from the counter :p"
   ]
  },
  {
   "cell_type": "code",
   "execution_count": 7,
   "metadata": {
    "collapsed": false
   },
   "outputs": [
    {
     "data": {
      "image/png": "[encoded data removed]",
      "text/plain": [
       "<matplotlib.figure.Figure at 0x7f52c9a12110>"
      ]
     },
     "metadata": {},
     "output_type": "display_data"
    }
   ],
   "source": [
    "#plt.fill(t[145000:170000],D1[145000:170000],\"r\")\n",
    "plt.fill(t[15000:30000],D2[15000:30000],\"b\")\n",
    "plt.show()"
   ]
  },
  {
   "cell_type": "code",
   "execution_count": 8,
   "metadata": {
    "collapsed": false
   },
   "outputs": [
    {
     "name": "stdout",
     "output_type": "stream",
     "text": [
      "Width of a pulse is: 131.25 pixels\n",
      "Width of a pulse is 11.7187382812 microsecond\n"
     ]
    }
   ],
   "source": [
    "widthPulse = np.sum(D2[15000:30000])/4.0\n",
    "print \"Width of a pulse is: \"+str(widthPulse)+\" pixels\"\n",
    "print \"Width of a pulse is \"+str(widthPulse/fAcq)+\" microsecond\"\n"
   ]
  },
  {
   "cell_type": "markdown",
   "metadata": {},
   "source": [
    "# @TODO\n",
    "\n",
    "* Add a global pos instead\n",
    "* Add a 2T marker at the beginning of a string of data"
   ]
  },
  {
   "cell_type": "code",
   "execution_count": null,
   "metadata": {
    "collapsed": true
   },
   "outputs": [],
   "source": []
  }
 ],
 "metadata": {
  "kernelspec": {
   "display_name": "Python 2",
   "language": "python",
   "name": "python2"
  },
  "language_info": {
   "codemirror_mode": {
    "name": "ipython",
    "version": 2
   },
   "file_extension": ".py",
   "mimetype": "text/x-python",
   "name": "python",
   "nbconvert_exporter": "python",
   "pygments_lexer": "ipython2",
   "version": "2.7.12"
  }
 },
 "nbformat": 4,
 "nbformat_minor": 2
}
