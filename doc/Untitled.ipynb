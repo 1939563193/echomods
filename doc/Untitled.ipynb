{
 "cells": [
  {
   "cell_type": "code",
   "execution_count": 44,
   "metadata": {
    "collapsed": true
   },
   "outputs": [],
   "source": [
    "from urllib2 import urlopen\n",
    "import bs4 as BeautifulSoup\n",
    "import os\n",
    "from datetime import datetime, date, time\n",
    "\n",
    "def insert(originalfile,string):\n",
    "    with open(originalfile,'r') as f:\n",
    "        with open('newfile.txt','w') as f2: \n",
    "            f2.write(string)\n",
    "            f2.write(f.read())\n",
    "    os.rename('newfile.txt',originalfile)\n",
    "    \n",
    "def th(number):\n",
    "    if \"k\" in number:\n",
    "        value = int(float(number[:-1])*1000)\n",
    "    else:\n",
    "        value = int(number)\n",
    "    return value\n",
    "\n",
    "ResString = \"### Some stats\\n\\n\""
   ]
  },
  {
   "cell_type": "code",
   "execution_count": 36,
   "metadata": {
    "collapsed": false
   },
   "outputs": [],
   "source": [
    "names= [\"HSDK\",\"Murgen\",\"ADC cape\"]\n",
    "url = [\"https://hackaday.io/project/10899\",\"https://hackaday.io/project/9281\",\"https://hackaday.io/project/20455\"]\n"
   ]
  },
  {
   "cell_type": "code",
   "execution_count": 37,
   "metadata": {
    "collapsed": false
   },
   "outputs": [],
   "source": [
    "for k in range(len(names)):\n",
    "    html = urlopen(url[k]).read()\n",
    "    soup = BeautifulSoup.BeautifulSoup(html, \"lxml\")\n",
    "    t = th(soup.find(\"span\", {\"title\": \"View Count\"}).text)\n",
    "    u = th(soup.find(\"span\", {\"title\": \"Followers\"}).text)\n",
    "    v = th(soup.find(\"span\", {\"title\": \"Likes\"}).text)\n",
    "    ResString += \"* __\"+names[k]+\"__: \"+str(t)+ \" views, \"+str(u)+ \" followers, \"+str(v)+ \" likes\\n\""
   ]
  },
  {
   "cell_type": "code",
   "execution_count": 41,
   "metadata": {
    "collapsed": true
   },
   "outputs": [],
   "source": [
    "urlJOH = \"https://openhardware.metajnl.com/articles/10.5334/joh.2/metrics/#views\"\n",
    "html = urlopen(urlJOH).read()\n",
    "soup = BeautifulSoup.BeautifulSoup(html, \"lxml\")\n",
    "t = th(soup.find(\"li\", {\"class\": \"metrics-slab views\"}).text.strip().split(\"\\n\")[0])\n",
    "u = th(soup.find(\"li\", {\"class\": \"metrics-slab downloads\"}).text.strip().split(\"\\n\")[0])\n",
    "ResString += \"* JOH publication: \"+str(t)+\" views and \"+str(u)+\" downloads.\\n\\n\""
   ]
  },
  {
   "cell_type": "code",
   "execution_count": 43,
   "metadata": {
    "collapsed": false
   },
   "outputs": [],
   "source": [
    "insert(\"../include/AddStatsFull.md\",ResString+\"--- \"+str(datetime.now())   +\"\\n\\n\")\n",
    "\n",
    "text_file = open(\"../include/AddStats.md\", \"w\")\n",
    "text_file.write(ResString)\n",
    "text_file.close()"
   ]
  },
  {
   "cell_type": "code",
   "execution_count": null,
   "metadata": {
    "collapsed": true
   },
   "outputs": [],
   "source": []
  }
 ],
 "metadata": {
  "kernelspec": {
   "display_name": "Python 2",
   "language": "python",
   "name": "python2"
  },
  "language_info": {
   "codemirror_mode": {
    "name": "ipython",
    "version": 2
   },
   "file_extension": ".py",
   "mimetype": "text/x-python",
   "name": "python",
   "nbconvert_exporter": "python",
   "pygments_lexer": "ipython2",
   "version": "2.7.12"
  }
 },
 "nbformat": 4,
 "nbformat_minor": 2
}
