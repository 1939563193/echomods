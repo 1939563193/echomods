{
 "cells": [
  {
   "cell_type": "code",
   "execution_count": 125,
   "metadata": {},
   "outputs": [],
   "source": [
    "#!/usr/bin/python\n",
    "import spidev\n",
    "import RPi.GPIO as GPIO\n",
    "import time\n",
    "\n",
    "def StartUp():\n",
    "    GPIO.setmode(GPIO.BCM)\n",
    "    PRESET = 25\n",
    "    IO4 = 26\n",
    "    GPIO.setup(PRESET,GPIO.OUT)\n",
    "    GPIO.setup(IO4,GPIO.IN, pull_up_down=GPIO.PUD_DOWN)\n",
    "    print \"Reset 25 - Low 1s\"\n",
    "    GPIO.output(PRESET,GPIO.LOW)\n",
    "    time.sleep(3)\n",
    "    print \"Reset 25 - High 0.2s\"\n",
    "    GPIO.output(PRESET,GPIO.HIGH)\n",
    "    time.sleep(0.2)\n",
    "\n",
    "    spi = spidev.SpiDev()\n",
    "    spi.open(0,1) # CS2 - FPGA, on CE1 = IO4\n",
    "    spi.mode = 0b00\n",
    "    print \"spi.cshigh is \" + str(spi.cshigh)\n",
    "    print \"spi mode is \" + str(spi.mode)\n",
    "    spi.max_speed_hz = 200000\n",
    "    print \"spi maxspeed is \"+str(spi.max_speed_hz)+\"hz\"\n",
    "    return spi\n",
    "\n",
    "def TestSPI(spi,ncycles):\n",
    "    i = 0\n",
    "    while i < ncycles:\n",
    "        WriteFPGA(spi,0xEB,0x01) # 0: single mode 1 continious mode\n",
    "        time.sleep(0.5)\n",
    "        WriteFPGA(spi,0xEB,0x00) # 0: single mode 1 continious mode\n",
    "        time.sleep(0.5)  \n",
    "        i = i+1\n",
    "        \n",
    "def ConfigSPI(spi):\n",
    "    WriteFPGA(spi,0xE0,0x14) # set sEEPon\n",
    "    WriteFPGA(spi,0xE1,0x00) # set sEEPoff MSB\n",
    "    WriteFPGA(spi,0xE2,0xC8) # set sEEPoff LSB\n",
    "    WriteFPGA(spi,0xE3,0x00) # set sEEDelayACQ sEEDelayACQ MSB\n",
    "    WriteFPGA(spi,0xE4,0xBC) # set sEEDelayACQ EEDelayACQ LSB\n",
    "    WriteFPGA(spi,0xE5,0x00) # set sEEPeriod MSB\n",
    "    WriteFPGA(spi,0xE6,0xC8) # set sEEPeriod LSB\n",
    "    WriteFPGA(spi,0xE7,0x01) # Period of one cycle MSB\n",
    "    WriteFPGA(spi,0xE8,0x86) # Period of one cycle 15 to 8\n",
    "    WriteFPGA(spi,0xE9,0xA0) # Period of one cycle LSB\n",
    "    #WriteFPGA(spi,0xEA,0x00) # Software Trig : As to be clear by software\n",
    "    WriteFPGA(spi,0xEB,0x00) # 0: single mode 1 continious mode\n",
    "    WriteFPGA(spi,0xEC,0x11) # Voltage gain control: 0V to 1V\n",
    "    WriteFPGA(spi,0xED,0x03) # Frequency of ADC acquisition / sEEADC_freq\n",
    "    WriteFPGA(spi,0xEE,0xA0) # How many cycles in countinious mode\n",
    "    print \"Config FPGA done!\"\n",
    "\n",
    "def WriteFPGA(spi,adress,value):\n",
    "    spi.xfer([0xAA] )\n",
    "    spi.xfer([adress] )\n",
    "    spi.xfer([value] )"
   ]
  },
  {
   "cell_type": "code",
   "execution_count": 126,
   "metadata": {},
   "outputs": [
    {
     "data": {
      "text/plain": [
       "100000"
      ]
     },
     "execution_count": 126,
     "metadata": {},
     "output_type": "execute_result"
    }
   ],
   "source": [
    "int(0x0186A0)"
   ]
  },
  {
   "cell_type": "code",
   "execution_count": 127,
   "metadata": {},
   "outputs": [
    {
     "name": "stdout",
     "output_type": "stream",
     "text": [
      "Reset 25 - Low 1s\n",
      "Reset 25 - High 0.2s\n",
      "spi.cshigh is False\n",
      "spi mode is 0\n",
      "spi maxspeed is 200000hz\n",
      "Config FPGA done!\n"
     ]
    }
   ],
   "source": [
    "spi = StartUp()\n",
    "ConfigSPI(spi)"
   ]
  },
  {
   "cell_type": "code",
   "execution_count": 128,
   "metadata": {},
   "outputs": [],
   "source": [
    "#TestSPI(spi,3)"
   ]
  },
  {
   "cell_type": "code",
   "execution_count": 93,
   "metadata": {},
   "outputs": [],
   "source": [
    "WriteFPGA(spi,0xEA,0x01) # Software Trig : As to be clear by software"
   ]
  },
  {
   "cell_type": "code",
   "execution_count": null,
   "metadata": {},
   "outputs": [],
   "source": [
    "WriteFPGA(spi,0xEA,0x00) # Software Trig : As to be clear by software\n",
    "while 1:\n",
    "    WriteFPGA(spi,0xEA,0x01) # Software Trig : As to be clear by software (normally OK, 1 acq is 1ms)\n",
    "    time.sleep(0.005) # sleep 5ms"
   ]
  },
  {
   "cell_type": "code",
   "execution_count": 123,
   "metadata": {},
   "outputs": [
    {
     "name": "stdout",
     "output_type": "stream",
     "text": [
      "[170]\n",
      "[170]\n",
      "[170]\n"
     ]
    }
   ],
   "source": [
    "WriteFPGA(spi,0xEE,0xBB) # How many cycles in countinious mode\n",
    "WriteFPGA(spi,0xEB,0x00) # COntinuous\n",
    "WriteFPGA(spi,0xEA,0x00) # Software Trig : As to be clear by software\n",
    "WriteFPGA(spi,0xEA,0x01) # Software Trig : As to be clear by software\n",
    "time.sleep(0.01) \n",
    "for i in range(1011):\n",
    "    spi.xfer([0xBB] )\n",
    "print spi.xfer([0x1])\n",
    "print spi.xfer([0xBB])\n",
    "time.sleep(0.001) \n",
    "print spi.xfer([0xBB])"
   ]
  },
  {
   "cell_type": "code",
   "execution_count": 97,
   "metadata": {},
   "outputs": [
    {
     "name": "stdout",
     "output_type": "stream",
     "text": [
      "[170]\n",
      "[170]\n",
      "[170]\n"
     ]
    }
   ],
   "source": [
    "print spi.xfer([0xA1])\n",
    "print spi.xfer([0xA1])\n",
    "time.sleep(0.001) \n",
    "print spi.xfer([0xA1])"
   ]
  },
  {
   "cell_type": "code",
   "execution_count": 62,
   "metadata": {},
   "outputs": [
    {
     "name": "stdout",
     "output_type": "stream",
     "text": [
      "0 170\n"
     ]
    }
   ],
   "source": [
    "ct = []\n",
    "for i in range(10101):\n",
    "    ct.append( spi.xfer([0x81] )[0]  ) \n",
    "last = 0\n",
    "for j in range(len(ct)): \n",
    "    if not(ct[j] == last):\n",
    "        print last,ct[j]\n",
    "    last = ct[j]\n",
    "    #print j"
   ]
  },
  {
   "cell_type": "code",
   "execution_count": 96,
   "metadata": {},
   "outputs": [
    {
     "data": {
      "text/plain": [
       "[170,\n",
       " 170,\n",
       " 170,\n",
       " 170,\n",
       " 170,\n",
       " 170,\n",
       " 170,\n",
       " 170,\n",
       " 170,\n",
       " 170,\n",
       " 170,\n",
       " 170,\n",
       " 170,\n",
       " 170,\n",
       " 170,\n",
       " 170,\n",
       " 170,\n",
       " 170,\n",
       " 170,\n",
       " 170,\n",
       " 170,\n",
       " 170,\n",
       " 170,\n",
       " 170,\n",
       " 170,\n",
       " 170,\n",
       " 170,\n",
       " 170,\n",
       " 170,\n",
       " 170,\n",
       " 170,\n",
       " 170,\n",
       " 170,\n",
       " 170,\n",
       " 170,\n",
       " 170,\n",
       " 170,\n",
       " 170,\n",
       " 170,\n",
       " 170,\n",
       " 170,\n",
       " 170,\n",
       " 170,\n",
       " 170,\n",
       " 170,\n",
       " 170,\n",
       " 170,\n",
       " 170,\n",
       " 170,\n",
       " 170,\n",
       " 170,\n",
       " 170,\n",
       " 170,\n",
       " 170,\n",
       " 170,\n",
       " 170,\n",
       " 170,\n",
       " 170,\n",
       " 170,\n",
       " 170,\n",
       " 170,\n",
       " 170,\n",
       " 170,\n",
       " 170,\n",
       " 170,\n",
       " 170,\n",
       " 170,\n",
       " 170,\n",
       " 170,\n",
       " 170,\n",
       " 170,\n",
       " 170,\n",
       " 170,\n",
       " 170,\n",
       " 170,\n",
       " 170,\n",
       " 170,\n",
       " 170,\n",
       " 170,\n",
       " 170,\n",
       " 170,\n",
       " 170,\n",
       " 170,\n",
       " 170,\n",
       " 170,\n",
       " 170,\n",
       " 170,\n",
       " 170,\n",
       " 170,\n",
       " 170,\n",
       " 170,\n",
       " 170,\n",
       " 170,\n",
       " 170,\n",
       " 170,\n",
       " 170,\n",
       " 170,\n",
       " 170,\n",
       " 170,\n",
       " 170]"
      ]
     },
     "execution_count": 96,
     "metadata": {},
     "output_type": "execute_result"
    }
   ],
   "source": [
    "spi.readbytes(100)"
   ]
  },
  {
   "cell_type": "code",
   "execution_count": 86,
   "metadata": {},
   "outputs": [],
   "source": [
    "spi.close() "
   ]
  },
  {
   "cell_type": "code",
   "execution_count": null,
   "metadata": {},
   "outputs": [],
   "source": []
  },
  {
   "cell_type": "code",
   "execution_count": null,
   "metadata": {},
   "outputs": [],
   "source": []
  },
  {
   "cell_type": "code",
   "execution_count": null,
   "metadata": {},
   "outputs": [],
   "source": []
  }
 ],
 "metadata": {
  "kernelspec": {
   "display_name": "Python 2",
   "language": "python",
   "name": "python2"
  },
  "language_info": {
   "codemirror_mode": {
    "name": "ipython",
    "version": 2
   },
   "file_extension": ".py",
   "mimetype": "text/x-python",
   "name": "python",
   "nbconvert_exporter": "python",
   "pygments_lexer": "ipython2",
   "version": "2.7.9"
  }
 },
 "nbformat": 4,
 "nbformat_minor": 2
}
