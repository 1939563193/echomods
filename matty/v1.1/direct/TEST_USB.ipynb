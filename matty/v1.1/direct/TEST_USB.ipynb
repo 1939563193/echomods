{
 "cells": [
  {
   "cell_type": "code",
   "execution_count": 1,
   "metadata": {
    "collapsed": false
   },
   "outputs": [],
   "source": [
    "#!/usr/bin/env python3\n",
    "# -*- coding: utf-8 -*-\n",
    "\n",
    "import logging\n",
    "import unittest\n",
    "from binascii import hexlify\n",
    "from doctest import testmod\n",
    "from os import environ\n",
    "from sys import modules, stderr, stdout\n",
    "from time import sleep\n",
    "from pyftdi import FtdiLogger\n",
    "from pyftdi.spi import SpiController, SpiIOError\n",
    "import time\n"
   ]
  },
  {
   "cell_type": "code",
   "execution_count": 5,
   "metadata": {
    "collapsed": false
   },
   "outputs": [
    {
     "name": "stdout",
     "output_type": "stream",
     "text": [
      "Dir:0b1111011\n",
      "Dir:0b11111011\n",
      "====\n",
      "GPIO STATUS:  128\n",
      "GPIO STATUS:  128\n",
      "GPIO STATUS:  0\n",
      "GPIO STATUS:  128\n"
     ]
    }
   ],
   "source": [
    "# Instanciate a SPI controller for ice40\n",
    "\n",
    "#https://eblot.github.io/pyftdi/pinout.html\n",
    "    \n",
    "spi = SpiController()\n",
    "\n",
    "# Configure the first interface (IF/1) of the FTDI device as a SPI master\n",
    "spi.configure('ftdi://ftdi:2232h/2')\n",
    "#spi.configure('ftdi://::/1')\n",
    "\n",
    "# Get a port to a SPI slave w/ /CS on A*BUS3 and SPI mode 0 @ 12MHz\n",
    "slave = spi.get_port(cs=0, freq=12E6, mode=0)\n",
    "\n",
    "# RESET the ICE40 -> BDBUS7 // # CS4/GPIO7\n",
    "\n",
    "gpio = spi.get_gpio()\n",
    "DIR_PREVIOUS  = gpio.direction\n",
    "print( \"Dir:\" + bin( DIR_PREVIOUS ) )\n",
    "spi._spi_mask = 0b0001111\n",
    "#print(bin(spi._spi_mask))\n",
    "gpio.set_direction(0b10000000, 0b10000000)\n",
    "print( \"Dir:\" + bin( gpio.direction ) )\n",
    "print(\"====\")\n",
    "print(\"GPIO STATUS: \",gpio.read())\n",
    "gpio.write(0b10000000)\n",
    "print(\"GPIO STATUS: \",gpio.read())\n",
    "gpio.write(0b00000000)\n",
    "print(\"GPIO STATUS: \",gpio.read() & 0b10000000)\n",
    "time.sleep(1)\n",
    "gpio.write(0b10000000)\n",
    "print(\"GPIO STATUS: \",gpio.read() & 0b10000000)\n",
    "time.sleep(1)"
   ]
  },
  {
   "cell_type": "code",
   "execution_count": 4,
   "metadata": {
    "collapsed": false
   },
   "outputs": [
    {
     "name": "stdout",
     "output_type": "stream",
     "text": [
      "b'\\xff\\xff\\xff'\n"
     ]
    }
   ],
   "source": [
    "# Instanciate a SPI controller\n",
    "spi2 = SpiController()\n",
    "\n",
    "# Configure the first interface (IF/1) of the FTDI device as a SPI master\n",
    "spi2.configure('ftdi://ftdi:2232h/1')\n",
    "\n",
    "# Get a port to a SPI slave w/ /CS on A*BUS3 and SPI mode 0 @ 12MHz\n",
    "slave = spi2.get_port(cs=1, freq=12E6, mode=0)\n",
    "\n",
    "# RESET the ICE40 -> BDBUS7\n",
    "# Request the JEDEC ID from the SPI slave\n",
    "jedec_id = slave.exchange([0x9f], 3).tobytes()\n",
    "print(jedec_id)"
   ]
  },
  {
   "cell_type": "code",
   "execution_count": null,
   "metadata": {
    "collapsed": true
   },
   "outputs": [],
   "source": []
  }
 ],
 "metadata": {
  "kernelspec": {
   "display_name": "Python 3",
   "language": "python",
   "name": "python3"
  },
  "language_info": {
   "codemirror_mode": {
    "name": "ipython",
    "version": 3
   },
   "file_extension": ".py",
   "mimetype": "text/x-python",
   "name": "python",
   "nbconvert_exporter": "python",
   "pygments_lexer": "ipython3",
   "version": "3.5.2"
  }
 },
 "nbformat": 4,
 "nbformat_minor": 2
}
