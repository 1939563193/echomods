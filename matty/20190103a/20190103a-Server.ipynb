{
 "cells": [
  {
   "cell_type": "markdown",
   "metadata": {},
   "source": [
    "# `20190103a` - New board tests"
   ]
  },
  {
   "cell_type": "code",
   "execution_count": 7,
   "metadata": {
    "collapsed": false
   },
   "outputs": [
    {
     "name": "stdout",
     "output_type": "stream",
     "text": [
      "pyexiv2 does not exist on RPi\n"
     ]
    }
   ],
   "source": [
    "from pyUn0 import *"
   ]
  },
  {
   "cell_type": "code",
   "execution_count": 8,
   "metadata": {
    "collapsed": false
   },
   "outputs": [
    {
     "name": "stdout",
     "output_type": "stream",
     "text": [
      "Reset GPIO 23 - Low 1s\n",
      "Reset GPIO 23 - High 0.2s\n",
      "spi.cshigh is False\n",
      "spi mode is 1\n",
      "spi maxspeed is 2000000hz\n"
     ]
    }
   ],
   "source": [
    "UN0RICK = us_spi()\n",
    "UN0RICK.init()"
   ]
  },
  {
   "cell_type": "code",
   "execution_count": 9,
   "metadata": {
    "collapsed": true
   },
   "outputs": [],
   "source": [
    "UN0RICK.test_spi(3)"
   ]
  },
  {
   "cell_type": "code",
   "execution_count": 10,
   "metadata": {
    "collapsed": false
   },
   "outputs": [],
   "source": [
    "UN0RICK.JSON[\"firmware_version\"]=\"MATTY_un0rick_20180826.bin\"\n",
    "UN0RICK.JSON[\"experiment\"][\"description\"]=\"Testing if the lib works\"\n",
    "UN0RICK.JSON[\"experiment\"][\"probe\"]=\"piezo\"\n",
    "UN0RICK.JSON[\"experiment\"][\"target\"] = \"a reflector few cms away\"\n",
    "UN0RICK.JSON[\"V\"]=\"48\"\n",
    "UN0RICK.JSON[\"N\"] = 1 # Experiment ID"
   ]
  },
  {
   "cell_type": "code",
   "execution_count": 11,
   "metadata": {
    "collapsed": false
   },
   "outputs": [
    {
     "name": "stdout",
     "output_type": "stream",
     "text": [
      "Setting up the DAC\n",
      "Setting up the DAC\n",
      "Period between two acquisitions: 250000 us --\n",
      "Arguments: 0x3 0xd0 0x90\n",
      "Doing several lines.\n",
      "Remember to indicate how many lines\n",
      "Number of lines: 3\n",
      "Acquisition frequency set at 16.0 Msps\n",
      "Pulse width: 200  ns --  0x14\n",
      "Pulses delay: 300  ns --  0x1e\n",
      "Acquisition length:  200000 ns.\n",
      "Arguments:  0x64 0x0\n",
      "set_pulse_train Lacq 200000\n",
      "NAcq = 9360\n"
     ]
    }
   ],
   "source": [
    "Curve = UN0RICK.create_tgc_curve(300,900,True)[0] # Sets the DAC, 50mV to 850mv\n",
    "UN0RICK.set_tgc_curve(Curve)\n",
    "UN0RICK.set_period_between_acqs(int(2500000)) # 2.5ms\n",
    "UN0RICK.set_multi_lines(True)\t\t\t\t        # Multi lines acquisition\t\n",
    "UN0RICK.set_acquisition_number_lines(3)\t\t\t\t            # Setting the number of lines\n",
    "UN0RICK.set_msps(3) \t\t\t\t\t            # Acquisition Freq\n",
    "A = UN0RICK.set_timings(200,100,2000,5000,200000)\t\t# Settings the series of pulses"
   ]
  },
  {
   "cell_type": "code",
   "execution_count": 12,
   "metadata": {
    "collapsed": false
   },
   "outputs": [
    {
     "name": "stdout",
     "output_type": "stream",
     "text": [
      "0% - 129\n",
      "10% - 132\n",
      "20% - 132\n",
      "30% - 132\n",
      "40% - 164\n",
      "50% - 164\n",
      "60% - 164\n",
      "70% - 195\n",
      "80% - 196\n",
      "90% - 196\n",
      "100% - 12\n",
      "Took 2.10 seconds to transfer.\n",
      "for 18722 transfers of data\n",
      "20190103a-1.json: file saved.\n"
     ]
    }
   ],
   "source": [
    "UN0RICK.JSON[\"data\"] = UN0RICK.do_acquisition()\n",
    "UN0RICK.JSON[\"N\"] = UN0RICK.JSON[\"N\"] + 1"
   ]
  },
  {
   "cell_type": "code",
   "execution_count": 13,
   "metadata": {
    "collapsed": false
   },
   "outputs": [
    {
     "name": "stdout",
     "output_type": "stream",
     "text": [
      "Setting up the DAC\n",
      "Setting up the DAC\n",
      "Doing a single line\n",
      "Acquisition frequency set at 64.0 Msps\n",
      "Pulse width: 200  ns --  0x14\n",
      "Pulses delay: 300  ns --  0x1e\n",
      "Acquisition length:  200000 ns.\n",
      "Arguments:  0x64 0x0\n",
      "set_pulse_train Lacq 200000\n",
      "NAcq = 12480\n"
     ]
    }
   ],
   "source": [
    "Curve = UN0RICK.create_tgc_curve(300,900,True)[0] # Sets the DAC, 50mV to 850mv\n",
    "UN0RICK.set_tgc_curve(Curve)\n",
    "UN0RICK.set_multi_lines(False)\t\t\t\t        # Multi lines acquisition\t\n",
    "#UN0RICK.set_acquisition_number_lines(160)\t\t\t\t            # Setting the number of lines\n",
    "UN0RICK.set_msps(0) \t\t\t\t\t            # Acquisition Freq\n",
    "A = UN0RICK.set_timings(200,100,2000,5000,200000)\t\t# Settings the series of pulses"
   ]
  },
  {
   "cell_type": "code",
   "execution_count": 14,
   "metadata": {
    "collapsed": false
   },
   "outputs": [
    {
     "name": "stdout",
     "output_type": "stream",
     "text": [
      "0% - 129\n",
      "10% - 131\n",
      "20% - 132\n",
      "30% - 131\n",
      "40% - 131\n",
      "50% - 132\n",
      "60% - 132\n",
      "70% - 132\n",
      "80% - 132\n",
      "90% - 132\n",
      "100% - 31\n",
      "Took 2.82 seconds to transfer.\n",
      "for 24962 transfers of data\n",
      "20190103a-2.json: file saved.\n"
     ]
    }
   ],
   "source": [
    "UN0RICK.JSON[\"data\"] = UN0RICK.do_acquisition()\n",
    "UN0RICK.JSON[\"N\"] = UN0RICK.JSON[\"N\"] + 1"
   ]
  },
  {
   "cell_type": "code",
   "execution_count": 17,
   "metadata": {
    "collapsed": false
   },
   "outputs": [
    {
     "name": "stdout",
     "output_type": "stream",
     "text": [
      "2\n",
      "Data acquired\n"
     ]
    }
   ],
   "source": [
    "LastJSON = UN0RICK.JSON[\"N\"] -1\n",
    "print LastJSON\n",
    "\n",
    "for MyDataFile in os.listdir(\"./\"):\n",
    "    if MyDataFile.endswith(str(LastJSON)+\".json\"):\n",
    "        y = us_json()\n",
    "        y.JSONprocessing(\"./\"+MyDataFile)"
   ]
  },
  {
   "cell_type": "code",
   "execution_count": 19,
   "metadata": {
    "collapsed": false
   },
   "outputs": [
    {
     "data": {
      "image/png": "[encoded data removed]",
      "text/plain": [
       "<matplotlib.figure.Figure at 0xaff2cb70>"
      ]
     },
     "metadata": {},
     "output_type": "display_data"
    }
   ],
   "source": [
    "plt.plot(y.tmp)\n",
    "plt.show()"
   ]
  },
  {
   "cell_type": "code",
   "execution_count": null,
   "metadata": {
    "collapsed": true
   },
   "outputs": [],
   "source": []
  }
 ],
 "metadata": {
  "kernelspec": {
   "display_name": "Python 2",
   "language": "python",
   "name": "python2"
  },
  "language_info": {
   "codemirror_mode": {
    "name": "ipython",
    "version": 2
   },
   "file_extension": ".py",
   "mimetype": "text/x-python",
   "name": "python",
   "nbconvert_exporter": "python",
   "pygments_lexer": "ipython2",
   "version": "2.7.15rc1"
  }
 },
 "nbformat": 4,
 "nbformat_minor": 2
}
