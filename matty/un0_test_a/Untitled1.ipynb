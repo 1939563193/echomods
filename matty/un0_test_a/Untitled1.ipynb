{
 "cells": [
  {
   "cell_type": "code",
   "execution_count": 1,
   "metadata": {
    "collapsed": false
   },
   "outputs": [
    {
     "ename": "AttributeError",
     "evalue": "'module' object has no attribute 'new'",
     "output_type": "error",
     "traceback": [
      "\u001b[0;31m---------------------------------------------------------------------------\u001b[0m",
      "\u001b[0;31mAttributeError\u001b[0m                            Traceback (most recent call last)",
      "\u001b[0;32m<ipython-input-1-3a04845591f7>\u001b[0m in \u001b[0;36m<module>\u001b[0;34m()\u001b[0m\n\u001b[1;32m     12\u001b[0m \u001b[0;34m\u001b[0m\u001b[0m\n\u001b[1;32m     13\u001b[0m \u001b[0;31m# initialize\u001b[0m\u001b[0;34m\u001b[0m\u001b[0;34m\u001b[0m\u001b[0m\n\u001b[0;32m---> 14\u001b[0;31m \u001b[0mftdic\u001b[0m \u001b[0;34m=\u001b[0m \u001b[0mftdi\u001b[0m\u001b[0;34m.\u001b[0m\u001b[0mnew\u001b[0m\u001b[0;34m(\u001b[0m\u001b[0;34m)\u001b[0m\u001b[0;34m\u001b[0m\u001b[0m\n\u001b[0m\u001b[1;32m     15\u001b[0m \u001b[0;32mif\u001b[0m \u001b[0mftdic\u001b[0m \u001b[0;34m==\u001b[0m \u001b[0;36m0\u001b[0m\u001b[0;34m:\u001b[0m\u001b[0;34m\u001b[0m\u001b[0m\n\u001b[1;32m     16\u001b[0m   \u001b[0;32mprint\u001b[0m \u001b[0;34m'new failed: %d'\u001b[0m\u001b[0;34m,\u001b[0m \u001b[0mret\u001b[0m\u001b[0;34m\u001b[0m\u001b[0m\n",
      "\u001b[0;31mAttributeError\u001b[0m: 'module' object has no attribute 'new'"
     ]
    }
   ],
   "source": [
    "#!/usr/bin/env python\n",
    "# -*- coding: utf-8 -*-\n",
    "\n",
    "\"\"\"Python example program.\n",
    "Complete program to demonstrate the usage\n",
    "of the swig generated python wrapper\n",
    "You need to build and install the wrapper first\"\"\"\n",
    "\n",
    "import os\n",
    "import pylibftdi as ftdi\n",
    "import time\n",
    "\n",
    "# initialize\n",
    "ftdic = ftdi.new()\n",
    "if ftdic == 0:\n",
    "    print 'new failed: %d', ret\n",
    "    os._exit( 1 )\n",
    "  \n",
    "  \n",
    "# list all devices\n",
    "ret, devlist = ftdi.usb_find_all( ftdic, 0x0403, 0x6001 )\n",
    "if ret < 0:\n",
    "    print 'ftdi_usb_find_all failed: %d (%s)' % ( ret, ftdi.get_error_string( ftdic ) )\n",
    "    os._exit( 1 )\n",
    "print 'Number of FTDI devices found: %d\\n' % ret\n",
    "curnode = devlist\n",
    "i = 0\n",
    "while( curnode != None ):\n",
    "    ret, manufacturer, description, serial = ftdi.usb_get_strings( ftdic, curnode.dev )\n",
    "    if ret < 0:\n",
    "        print 'ftdi_usb_get_strings failed: %d (%s)' % ( ret, ftdi.get_error_string( ftdic ) )\n",
    "        os._exit( 1 )\n",
    "    print 'Device #%d: manufacturer=\"%s\" description=\"%s\" serial=\"%s\"\\n' % ( i, manufacturer, description, serial )\n",
    "    curnode = curnode.next\n",
    "    i += 1\n",
    "\n",
    "# open usb\n",
    "ret = ftdi.usb_open( ftdic, 0x0403, 0x6001 )\n",
    "if ret < 0:\n",
    "    print 'unable to open ftdi device: %d (%s)' % ( ret, ftdi.get_error_string( ftdic ) )\n",
    "    os._exit( 1 )\n",
    "\n",
    "\n",
    "# bitbang\n",
    "ret = ftdi.set_bitmode( ftdic, 0xff, ftdi.BITMODE_BITBANG )\n",
    "if ret < 0:\n",
    "    print 'Cannot enable bitbang'\n",
    "    os._exit( 1 )\n",
    "print 'turning everything on'\n",
    "ftdi.write_data( ftdic, chr(0xff), 1 )\n",
    "time.sleep( 1 )\n",
    "print 'turning everything off\\n'\n",
    "ftdi.write_data( ftdic, chr(0x00), 1 )\n",
    "time.sleep( 1 )\n",
    "for i in range( 8 ):\n",
    "    val = 2**i\n",
    "    print 'enabling bit #%d (0x%02x)' % (i, val)\n",
    "    ftdi.write_data( ftdic, chr(val), 1 )\n",
    "    time.sleep ( 1 )\n",
    "ftdi.disable_bitbang( ftdic )\n",
    "print ''\n",
    "\n",
    "\n",
    "# read pins\n",
    "ret, pins = ftdi.read_pins( ftdic )\n",
    "print 'pins:',\n",
    "if ( ret == 0 ):\n",
    "    print '%02x' % ord( pins[0] )\n",
    "print ''    \n",
    "\n",
    "\n",
    "# read chip id\n",
    "ret, chipid = ftdi.read_chipid( ftdic )\n",
    "print 'FDTI chip id: %X\\n' % chipid"
   ]
  },
  {
   "cell_type": "code",
   "execution_count": null,
   "metadata": {
    "collapsed": true
   },
   "outputs": [],
   "source": []
  }
 ],
 "metadata": {
  "kernelspec": {
   "display_name": "Python 2",
   "language": "python",
   "name": "python2"
  },
  "language_info": {
   "codemirror_mode": {
    "name": "ipython",
    "version": 2
   },
   "file_extension": ".py",
   "mimetype": "text/x-python",
   "name": "python",
   "nbconvert_exporter": "python",
   "pygments_lexer": "ipython2",
   "version": "2.7.12"
  }
 },
 "nbformat": 4,
 "nbformat_minor": 2
}
