{
 "cells": [
  {
   "cell_type": "code",
   "execution_count": null,
   "metadata": {
    "collapsed": false
   },
   "outputs": [],
   "source": [
    "from binascii import hexlify\n",
    "from pyftdi.ftdi import Ftdi\n",
    "from pyftdi.spi import SpiController,SpiGpioPort\n",
    "#from pyftdi.gpio import GpioController\n",
    "from sys import modules, stderr, stdout\n",
    "import time\n",
    "from array import array\n"
   ]
  },
  {
   "cell_type": "code",
   "execution_count": null,
   "metadata": {
    "collapsed": false
   },
   "outputs": [],
   "source": [
    "\n",
    "def WriteFPGA(Slave,adress,value):\n",
    "\n",
    "    Slave.write([0xAA], True, True)\n",
    "    Slave.write([adress], True, True)\n",
    "    Slave.write([value], True, True)\n",
    "    \n",
    "def WriteFPGA2(Slave,adress,value,Gpio):\n",
    "    Gpio.write(0x1800)\n",
    "    \n",
    "    Gpio.write(0x1000)\n",
    "    Slave.write([adress], True, True)\n",
    "    gpio.write(0x1800)\n",
    "\n",
    "    Gpio.write(0x1000)\n",
    "    Slave.write([adress], True, True)\n",
    "    Gpio.write(0x1800)\n",
    "    \n",
    "    Gpio.write(0x1000)\n",
    "    Slave.write([value], True, True)\n",
    "    Gpio.write(0x1800)\n",
    "        \n",
    "# Instanciate a SPI controller\n",
    "spi = SpiController()\n",
    "# Configure the first interface (IF/1) of the FTDI device as a SPI master\n",
    "spi.configure('ftdi://ftdi:2232h/1',debug=0) \n",
    "\n",
    "slave = spi.get_port(cs=0, freq=1E6, mode=0)\n",
    "#to get the maximun frequency possible on this link\n",
    "print(spi.frequency_max)"
   ]
  },
  {
   "cell_type": "code",
   "execution_count": null,
   "metadata": {
    "collapsed": true
   },
   "outputs": [],
   "source": []
  }
 ],
 "metadata": {
  "kernelspec": {
   "display_name": "Python 3",
   "language": "python",
   "name": "python3"
  },
  "language_info": {
   "codemirror_mode": {
    "name": "ipython",
    "version": 2
   },
   "file_extension": ".py",
   "mimetype": "text/x-python",
   "name": "python",
   "nbconvert_exporter": "python",
   "pygments_lexer": "ipython2",
   "version": "2.7.12"
  }
 },
 "nbformat": 4,
 "nbformat_minor": 2
}
