{
 "cells": [
  {
   "cell_type": "code",
   "execution_count": 1,
   "metadata": {},
   "outputs": [],
   "source": [
    "# Trying more luck with bard probes `20200605a`"
   ]
  },
  {
   "cell_type": "code",
   "execution_count": 2,
   "metadata": {},
   "outputs": [
    {
     "name": "stdout",
     "output_type": "stream",
     "text": [
      "Not loading RPi.GPIO as not on RPi\n",
      "pyexiv2 does not exist on RPi\n"
     ]
    }
   ],
   "source": [
    "import json\n",
    "import time\n",
    "import datetime\n",
    "import os,glob\n",
    "import sys,re\n",
    "import spidev\n",
    "import numpy as np\n",
    "import matplotlib\n",
    "matplotlib.use('Agg') \n",
    "\n",
    "import matplotlib.pyplot as plt\n",
    "import process as us"
   ]
  },
  {
   "cell_type": "code",
   "execution_count": 3,
   "metadata": {},
   "outputs": [
    {
     "name": "stdout",
     "output_type": "stream",
     "text": [
      "20200605a-1.json\n",
      "480002 240001.0 240000\n",
      "Data acquired\n",
      "3906 120000\n",
      "PyExiv not present\n",
      "PyExiv not present\n",
      "4000 60\n",
      "PyExiv not present\n",
      "20200605a-5.json\n",
      "453122 226561.0 226560\n",
      "Data acquired\n",
      "3906 113280\n",
      "PyExiv not present\n",
      "PyExiv not present\n",
      "3776 60\n",
      "PyExiv not present\n",
      "20200605a-4.json\n",
      "480002 240001.0 240000\n",
      "Data acquired\n",
      "3906 120000\n",
      "PyExiv not present\n",
      "PyExiv not present\n",
      "4000 60\n",
      "PyExiv not present\n",
      "20200605a-8.json\n",
      "906242 453121.0 453120\n",
      "Data acquired\n",
      "3906 226560\n",
      "PyExiv not present\n",
      "PyExiv not present\n",
      "3776 120\n",
      "PyExiv not present\n",
      "20200605a-2.json\n",
      "480002 240001.0 240000\n",
      "Data acquired\n",
      "3906 120000\n",
      "PyExiv not present\n",
      "PyExiv not present\n",
      "4000 60\n",
      "PyExiv not present\n",
      "20200605a-6.json\n",
      "594722 297361.0 297360\n",
      "Data acquired\n"
     ]
    },
    {
     "name": "stderr",
     "output_type": "stream",
     "text": [
      "/home/kelu/ultrasound/echomods/matty/20200605a/process.py:656: RuntimeWarning: More than 20 figures have been opened. Figures created through the pyplot interface (`matplotlib.pyplot.figure`) are retained until explicitly closed and may consume too much memory. (To control this warning, see the rcParam `figure.max_open_warning`).\n",
      "  plt.figure(figsize=(15, 5))\n"
     ]
    },
    {
     "name": "stdout",
     "output_type": "stream",
     "text": [
      "5859 148680\n",
      "PyExiv not present\n"
     ]
    },
    {
     "name": "stderr",
     "output_type": "stream",
     "text": [
      "/home/kelu/ultrasound/echomods/matty/20200605a/process.py:685: RuntimeWarning: More than 20 figures have been opened. Figures created through the pyplot interface (`matplotlib.pyplot.figure`) are retained until explicitly closed and may consume too much memory. (To control this warning, see the rcParam `figure.max_open_warning`).\n",
      "  fig, ax1 = plt.subplots(figsize=(20, 10))\n"
     ]
    },
    {
     "name": "stdout",
     "output_type": "stream",
     "text": [
      "PyExiv not present\n",
      "2520 118\n"
     ]
    },
    {
     "name": "stderr",
     "output_type": "stream",
     "text": [
      "/home/kelu/ultrasound/echomods/matty/20200605a/process.py:759: RuntimeWarning: More than 20 figures have been opened. Figures created through the pyplot interface (`matplotlib.pyplot.figure`) are retained until explicitly closed and may consume too much memory. (To control this warning, see the rcParam `figure.max_open_warning`).\n",
      "  plt.figure(figsize=(15, 10))\n"
     ]
    },
    {
     "name": "stdout",
     "output_type": "stream",
     "text": [
      "PyExiv not present\n"
     ]
    },
    {
     "name": "stderr",
     "output_type": "stream",
     "text": [
      "/home/kelu/ultrasound/echomods/matty/20200605a/process.py:843: RuntimeWarning: More than 20 figures have been opened. Figures created through the pyplot interface (`matplotlib.pyplot.figure`) are retained until explicitly closed and may consume too much memory. (To control this warning, see the rcParam `figure.max_open_warning`).\n",
      "  plt.figure(figsize=(15, 10))\n"
     ]
    },
    {
     "name": "stdout",
     "output_type": "stream",
     "text": [
      "20200605a-3.json\n",
      "480002 240001.0 240000\n",
      "Data acquired\n"
     ]
    },
    {
     "name": "stderr",
     "output_type": "stream",
     "text": [
      "/home/kelu/ultrasound/echomods/matty/20200605a/process.py:656: RuntimeWarning: More than 20 figures have been opened. Figures created through the pyplot interface (`matplotlib.pyplot.figure`) are retained until explicitly closed and may consume too much memory. (To control this warning, see the rcParam `figure.max_open_warning`).\n",
      "  plt.figure(figsize=(15, 5))\n"
     ]
    },
    {
     "name": "stdout",
     "output_type": "stream",
     "text": [
      "3906 120000\n",
      "PyExiv not present\n"
     ]
    },
    {
     "name": "stderr",
     "output_type": "stream",
     "text": [
      "/home/kelu/ultrasound/echomods/matty/20200605a/process.py:685: RuntimeWarning: More than 20 figures have been opened. Figures created through the pyplot interface (`matplotlib.pyplot.figure`) are retained until explicitly closed and may consume too much memory. (To control this warning, see the rcParam `figure.max_open_warning`).\n",
      "  fig, ax1 = plt.subplots(figsize=(20, 10))\n"
     ]
    },
    {
     "name": "stdout",
     "output_type": "stream",
     "text": [
      "PyExiv not present\n",
      "4000 60\n"
     ]
    },
    {
     "name": "stderr",
     "output_type": "stream",
     "text": [
      "/home/kelu/ultrasound/echomods/matty/20200605a/process.py:759: RuntimeWarning: More than 20 figures have been opened. Figures created through the pyplot interface (`matplotlib.pyplot.figure`) are retained until explicitly closed and may consume too much memory. (To control this warning, see the rcParam `figure.max_open_warning`).\n",
      "  plt.figure(figsize=(15, 10))\n"
     ]
    },
    {
     "name": "stdout",
     "output_type": "stream",
     "text": [
      "PyExiv not present\n"
     ]
    },
    {
     "name": "stderr",
     "output_type": "stream",
     "text": [
      "/home/kelu/ultrasound/echomods/matty/20200605a/process.py:843: RuntimeWarning: More than 20 figures have been opened. Figures created through the pyplot interface (`matplotlib.pyplot.figure`) are retained until explicitly closed and may consume too much memory. (To control this warning, see the rcParam `figure.max_open_warning`).\n",
      "  plt.figure(figsize=(15, 10))\n"
     ]
    },
    {
     "name": "stdout",
     "output_type": "stream",
     "text": [
      "20200605a-7.json\n",
      "906242 453121.0 453120\n",
      "Data acquired\n"
     ]
    },
    {
     "name": "stderr",
     "output_type": "stream",
     "text": [
      "/home/kelu/ultrasound/echomods/matty/20200605a/process.py:656: RuntimeWarning: More than 20 figures have been opened. Figures created through the pyplot interface (`matplotlib.pyplot.figure`) are retained until explicitly closed and may consume too much memory. (To control this warning, see the rcParam `figure.max_open_warning`).\n",
      "  plt.figure(figsize=(15, 5))\n"
     ]
    },
    {
     "name": "stdout",
     "output_type": "stream",
     "text": [
      "3906 226560\n",
      "PyExiv not present\n"
     ]
    },
    {
     "name": "stderr",
     "output_type": "stream",
     "text": [
      "/home/kelu/ultrasound/echomods/matty/20200605a/process.py:685: RuntimeWarning: More than 20 figures have been opened. Figures created through the pyplot interface (`matplotlib.pyplot.figure`) are retained until explicitly closed and may consume too much memory. (To control this warning, see the rcParam `figure.max_open_warning`).\n",
      "  fig, ax1 = plt.subplots(figsize=(20, 10))\n"
     ]
    },
    {
     "name": "stdout",
     "output_type": "stream",
     "text": [
      "PyExiv not present\n",
      "3807 119\n"
     ]
    },
    {
     "name": "stderr",
     "output_type": "stream",
     "text": [
      "/home/kelu/ultrasound/echomods/matty/20200605a/process.py:759: RuntimeWarning: More than 20 figures have been opened. Figures created through the pyplot interface (`matplotlib.pyplot.figure`) are retained until explicitly closed and may consume too much memory. (To control this warning, see the rcParam `figure.max_open_warning`).\n",
      "  plt.figure(figsize=(15, 10))\n"
     ]
    },
    {
     "name": "stdout",
     "output_type": "stream",
     "text": [
      "PyExiv not present\n"
     ]
    },
    {
     "name": "stderr",
     "output_type": "stream",
     "text": [
      "/home/kelu/ultrasound/echomods/matty/20200605a/process.py:843: RuntimeWarning: More than 20 figures have been opened. Figures created through the pyplot interface (`matplotlib.pyplot.figure`) are retained until explicitly closed and may consume too much memory. (To control this warning, see the rcParam `figure.max_open_warning`).\n",
      "  plt.figure(figsize=(15, 10))\n"
     ]
    }
   ],
   "source": [
    "for MyDataFile in os.listdir(\"./data/\"):\n",
    "    if MyDataFile.endswith(\".json\"):\n",
    "        print(MyDataFile)\n",
    "        y = us.us_json()\n",
    "        y.show_images = False\n",
    "        y.JSONprocessing(\"./data/\"+MyDataFile)\n",
    "        y.create_fft() \n",
    "        #y.save_npz() \n",
    "        y.mkImg()\n",
    "        if y.Nacq > 1:\n",
    "            y.mk2DArray()\n",
    "            y.mkFiltered(y.raw_2d_image)\n",
    "            #y.mkSpectrum(y.raw_2d_image)\n"
   ]
  },
  {
   "cell_type": "code",
   "execution_count": null,
   "metadata": {},
   "outputs": [],
   "source": []
  }
 ],
 "metadata": {
  "kernelspec": {
   "display_name": "Python 3",
   "language": "python",
   "name": "python3"
  },
  "language_info": {
   "codemirror_mode": {
    "name": "ipython",
    "version": 3
   },
   "file_extension": ".py",
   "mimetype": "text/x-python",
   "name": "python",
   "nbconvert_exporter": "python",
   "pygments_lexer": "ipython3",
   "version": "3.6.9"
  }
 },
 "nbformat": 4,
 "nbformat_minor": 4
}
