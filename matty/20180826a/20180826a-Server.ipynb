{
 "cells": [
  {
   "cell_type": "markdown",
   "metadata": {},
   "source": [
    "# `20180826a` - Ncycles on 16bits"
   ]
  },
  {
   "cell_type": "code",
   "execution_count": 1,
   "metadata": {},
   "outputs": [
    {
     "name": "stdout",
     "output_type": "stream",
     "text": [
      "pyexiv2 does not exist on RPi\n"
     ]
    }
   ],
   "source": [
    "#!/usr/bin/python\n",
    "import spidev\n",
    "import RPi.GPIO as GPIO\n",
    "import time\n",
    "import numpy as np\n",
    "import matplotlib\n",
    "matplotlib.use('Agg')\n",
    "import matplotlib.pyplot as plt\n",
    "import json\n",
    "import time\n",
    "from pyUn0 import *\n",
    "%matplotlib inline"
   ]
  },
  {
   "cell_type": "code",
   "execution_count": 2,
   "metadata": {},
   "outputs": [],
   "source": [
    "x = us_spi()\n",
    "x.JSON[\"firmware_version\"]=\"f_un0\"\n",
    "x.JSON[\"experiment\"][\"description\"]=\"Testing if the 16bits n cycles works\"\n",
    "x.JSON[\"experiment\"][\"probe\"]=\"piezo\"\n",
    "x.JSON[\"experiment\"][\"target\"] = \"a reflector few cms away\"\n",
    "x.JSON[\"V\"]=\"24\"\n",
    "x.JSON[\"N\"] = 1 # Experiment ID"
   ]
  },
  {
   "cell_type": "code",
   "execution_count": 3,
   "metadata": {},
   "outputs": [
    {
     "name": "stderr",
     "output_type": "stream",
     "text": [
      "pyUn0.py:149: RuntimeWarning: This channel is already in use, continuing anyway.  Use GPIO.setwarnings(False) to disable warnings.\n",
      "  GPIO.setup(CS_FLASH,GPIO.OUT)\n"
     ]
    },
    {
     "name": "stdout",
     "output_type": "stream",
     "text": [
      "Reset GPIO 23 - Low 1s\n",
      "Reset GPIO 23 - High 0.2s\n",
      "spi.cshigh is False\n",
      "spi mode is 1\n",
      "spi maxspeed is 2000000hz\n",
      "Setting up the DAC\n"
     ]
    }
   ],
   "source": [
    "x.init()                                    # Inits the FPGA\n",
    "\n",
    "Curve = x.CreateDACCurve(300,900,True)[0]   # Sets the DAC, 50mV to 850mv"
   ]
  },
  {
   "cell_type": "code",
   "execution_count": 4,
   "metadata": {},
   "outputs": [],
   "source": [
    "x.JSON[\"N\"] = 1 "
   ]
  },
  {
   "cell_type": "code",
   "execution_count": 11,
   "metadata": {},
   "outputs": [
    {
     "name": "stdout",
     "output_type": "stream",
     "text": [
      "Remember to indicate how many lines\n",
      "Number of lines: 500\n",
      "Acquisition frequency set at 8.0 Msps\n",
      "Pulse width: 200  ns --  0x14\n",
      "Pulses delay: 300  ns --  0x1e\n",
      "Poff: 2300  ns --  0x0 0xe6\n",
      "Delay between: 21000 ns --  0xa 0x80\n",
      "Acquisition length:  145000 ns --  0x48 0x80\n",
      "setPulseTrain Lacq 145000\n",
      "NAcq = 496000\n"
     ]
    }
   ],
   "source": [
    "x.setMultiLines(True)\t\t\t\t        # Multi lines acquisition\t\n",
    "x.setNLines(500)\t\t\t\t            # Setting the number of lines\n",
    "x.setMsps(7) \t\t\t\t\t            # Acquisition Freq\n",
    "A = x.setTimings(200,100,2000,21000,145000)\t# Settings the series of pulses"
   ]
  },
  {
   "cell_type": "code",
   "execution_count": 12,
   "metadata": {},
   "outputs": [
    {
     "name": "stdout",
     "output_type": "stream",
     "text": [
      "0%\n",
      "10%\n",
      "20%\n",
      "30%\n",
      "40%\n",
      "50%\n",
      "60%\n",
      "70%\n",
      "80%\n",
      "90%\n",
      "100%\n",
      "Took 96.99 seconds to transfer.\n",
      "for 992002 transfers of data\n",
      "20180826a-1.json: file saved.\n"
     ]
    }
   ],
   "source": [
    "x.JSON[\"data\"] = x.doAcquisition()\n",
    "x.JSON[\"N\"] = x.JSON[\"N\"] + 1 "
   ]
  },
  {
   "cell_type": "code",
   "execution_count": null,
   "metadata": {},
   "outputs": [],
   "source": []
  }
 ],
 "metadata": {
  "kernelspec": {
   "display_name": "Python 2",
   "language": "python",
   "name": "python2"
  },
  "language_info": {
   "codemirror_mode": {
    "name": "ipython",
    "version": 2
   },
   "file_extension": ".py",
   "mimetype": "text/x-python",
   "name": "python",
   "nbconvert_exporter": "python",
   "pygments_lexer": "ipython2",
   "version": "2.7.13"
  }
 },
 "nbformat": 4,
 "nbformat_minor": 2
}
