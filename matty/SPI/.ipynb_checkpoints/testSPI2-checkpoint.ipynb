{
 "cells": [
  {
   "cell_type": "code",
   "execution_count": 21,
   "metadata": {
    "collapsed": false
   },
   "outputs": [
    {
     "name": "stdout",
     "output_type": "stream",
     "text": [
      "Vitesse SPI max: 30.0 MHz\n",
      "b'\\xff\\xff\\xff'\n"
     ]
    }
   ],
   "source": [
    "from binascii import hexlify\n",
    "from pyftdi.ftdi import Ftdi\n",
    "from pyftdi.spi import SpiController\n",
    "from sys import modules, stderr, stdout\n",
    "\n",
    "\n",
    "# Instanciate a SPI controller\n",
    "spi = SpiController()\n",
    "\n",
    "# Configure the first interface (IF/1) of the FTDI device as a SPI master\n",
    "spi.configure('ftdi://::/1')\n",
    "\n",
    "# Get a port to a SPI slave w/ /CS on A*BUS3 and SPI mode 0 @ 12MHz\n",
    "slave = spi.get_port(cs=1, freq=500000, mode=0)\n",
    "\n",
    "#to get the maximun frequency possible on this link\n",
    "print(\"Vitesse SPI max:\",spi.frequency_max/1.0E6,\"MHz\")\n",
    "\n",
    "jedec_id = slave.exchange([0x9f], 3).tobytes()\n",
    "print(jedec_id)\n",
    "spi.terminate()"
   ]
  },
  {
   "cell_type": "code",
   "execution_count": null,
   "metadata": {
    "collapsed": true
   },
   "outputs": [],
   "source": []
  },
  {
   "cell_type": "code",
   "execution_count": 10,
   "metadata": {
    "collapsed": false
   },
   "outputs": [],
   "source": [
    "#The cs shall be manual - use of I/O4\n",
    "gpio = spi.get_gpio()\n",
    "# IO4 = ACBUS3 -> GPIO11\n",
    "#Parameters:    pins (int) – which GPIO pins should be reconfigured\n",
    "#    direction (int) – a bitfield of GPIO pins. Each bit represent a GPIO pin, where a high level sets the pin as output and a low level sets the pin as input/high-Z.\n",
    "\n",
    "gpio.set_direction(0x0800, 0x0100)\n",
    "gpio.write(0x0100)"
   ]
  },
  {
   "cell_type": "code",
   "execution_count": 11,
   "metadata": {
    "collapsed": true
   },
   "outputs": [],
   "source": [
    "#before exchange\n",
    "gpio.write(0x0100)\n",
    "#to send a data \n",
    "slave.write([int(0xAA)], True, True)\n",
    "slave.write([int(0xEB)], True, True) \n",
    "slave.write([int(0x01)], True, True)\n",
    "\n",
    "\n",
    "#after exchange\n",
    "gpio.write(0x0000)"
   ]
  },
  {
   "cell_type": "code",
   "execution_count": 12,
   "metadata": {
    "collapsed": false
   },
   "outputs": [],
   "source": [
    "gpio.write(0x0100)"
   ]
  },
  {
   "cell_type": "code",
   "execution_count": null,
   "metadata": {
    "collapsed": true
   },
   "outputs": [],
   "source": []
  }
 ],
 "metadata": {
  "kernelspec": {
   "display_name": "Python 3",
   "language": "python",
   "name": "python3"
  },
  "language_info": {
   "codemirror_mode": {
    "name": "ipython",
    "version": 3
   },
   "file_extension": ".py",
   "mimetype": "text/x-python",
   "name": "python",
   "nbconvert_exporter": "python",
   "pygments_lexer": "ipython3",
   "version": "3.5.2"
  }
 },
 "nbformat": 4,
 "nbformat_minor": 2
}
