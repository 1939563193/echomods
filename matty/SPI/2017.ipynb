{
 "cells": [
  {
   "cell_type": "code",
   "execution_count": 52,
   "metadata": {
    "collapsed": false
   },
   "outputs": [
    {
     "ename": "TypeError",
     "evalue": "__init__() got an unexpected keyword argument 'cscount'",
     "output_type": "error",
     "traceback": [
      "\u001b[0;31m---------------------------------------------------------------------------\u001b[0m",
      "\u001b[0;31mTypeError\u001b[0m                                 Traceback (most recent call last)",
      "\u001b[0;32m<ipython-input-52-0954055a4492>\u001b[0m in \u001b[0;36m<module>\u001b[0;34m()\u001b[0m\n\u001b[1;32m      7\u001b[0m \u001b[0;34m\u001b[0m\u001b[0m\n\u001b[1;32m      8\u001b[0m \u001b[0;31m# Instanciate a SPI controller\u001b[0m\u001b[0;34m\u001b[0m\u001b[0;34m\u001b[0m\u001b[0m\n\u001b[0;32m----> 9\u001b[0;31m \u001b[0mspi\u001b[0m \u001b[0;34m=\u001b[0m \u001b[0mSpiController\u001b[0m\u001b[0;34m(\u001b[0m\u001b[0mcscount\u001b[0m \u001b[0;34m=\u001b[0m\u001b[0;36m3\u001b[0m\u001b[0;34m,\u001b[0m\u001b[0mturbo\u001b[0m\u001b[0;34m=\u001b[0m\u001b[0;32mFalse\u001b[0m\u001b[0;34m)\u001b[0m\u001b[0;34m\u001b[0m\u001b[0m\n\u001b[0m\u001b[1;32m     10\u001b[0m \u001b[0;34m\u001b[0m\u001b[0m\n\u001b[1;32m     11\u001b[0m \u001b[0;31m# Configure the first interface (IF/1) of the FTDI device as a SPI master\u001b[0m\u001b[0;34m\u001b[0m\u001b[0;34m\u001b[0m\u001b[0m\n",
      "\u001b[0;31mTypeError\u001b[0m: __init__() got an unexpected keyword argument 'cscount'"
     ]
    }
   ],
   "source": [
    "from binascii import hexlify\n",
    "from pyftdi.ftdi import Ftdi\n",
    "from pyftdi.spi import SpiController, SpiPort\n",
    "from sys import modules, stderr, stdout \n",
    "from pyftdi.usbtools import UsbTools\n",
    "from os import environ\n",
    "\n",
    "# Instanciate a SPI controller\n",
    "spi = SpiController(cscount =3,turbo=False)\n",
    "\n",
    "# Configure the first interface (IF/1) of the FTDI device as a SPI master\n",
    "spi.configure('ftdi://ftdi:2232h/1')\n",
    "slave = spi.get_port(cs=0, freq=12E6, mode=0)\n",
    "\n",
    "print(spi.frequency_max)\n",
    "\n",
    "C = spi.get_gpio()\n",
    "print(C)\n",
    "C.read()"
   ]
  },
  {
   "cell_type": "code",
   "execution_count": 49,
   "metadata": {
    "collapsed": false
   },
   "outputs": [
    {
     "name": "stdout",
     "output_type": "stream",
     "text": [
      "ftdi://ftdi:2232h/1\n"
     ]
    }
   ],
   "source": [
    "url = environ.get('FTDI_DEVICE', 'ftdi://ftdi:2232h/1')\n",
    "print(url)"
   ]
  },
  {
   "cell_type": "code",
   "execution_count": 53,
   "metadata": {
    "collapsed": false
   },
   "outputs": [
    {
     "ename": "AttributeError",
     "evalue": "'SpiController' object has no attribute '_spi_ports'",
     "output_type": "error",
     "traceback": [
      "\u001b[0;31m---------------------------------------------------------------------------\u001b[0m",
      "\u001b[0;31mAttributeError\u001b[0m                            Traceback (most recent call last)",
      "\u001b[0;32m<ipython-input-53-04b22ab91cca>\u001b[0m in \u001b[0;36m<module>\u001b[0;34m()\u001b[0m\n\u001b[1;32m      1\u001b[0m \u001b[0mspi\u001b[0m \u001b[0;34m=\u001b[0m \u001b[0mSpiController\u001b[0m\u001b[0;34m(\u001b[0m\u001b[0mturbo\u001b[0m\u001b[0;34m=\u001b[0m\u001b[0;32mFalse\u001b[0m\u001b[0;34m)\u001b[0m\u001b[0;34m\u001b[0m\u001b[0m\n\u001b[0;32m----> 2\u001b[0;31m \u001b[0mport\u001b[0m \u001b[0;34m=\u001b[0m \u001b[0mspi\u001b[0m\u001b[0;34m.\u001b[0m\u001b[0mget_port\u001b[0m\u001b[0;34m(\u001b[0m\u001b[0;36m1\u001b[0m\u001b[0;34m,\u001b[0m \u001b[0mfreq\u001b[0m\u001b[0;34m=\u001b[0m\u001b[0;36m3E6\u001b[0m\u001b[0;34m,\u001b[0m \u001b[0mmode\u001b[0m\u001b[0;34m=\u001b[0m\u001b[0;36m0\u001b[0m\u001b[0;34m)\u001b[0m\u001b[0;34m\u001b[0m\u001b[0m\n\u001b[0m\u001b[1;32m      3\u001b[0m \u001b[0mjedec_id\u001b[0m \u001b[0;34m=\u001b[0m \u001b[0mport\u001b[0m\u001b[0;34m.\u001b[0m\u001b[0mexchange\u001b[0m\u001b[0;34m(\u001b[0m\u001b[0;34m[\u001b[0m\u001b[0;36m0x9f\u001b[0m\u001b[0;34m]\u001b[0m\u001b[0;34m,\u001b[0m \u001b[0;36m3\u001b[0m\u001b[0;34m)\u001b[0m\u001b[0;34m.\u001b[0m\u001b[0mtobytes\u001b[0m\u001b[0;34m(\u001b[0m\u001b[0;34m)\u001b[0m\u001b[0;34m\u001b[0m\u001b[0m\n\u001b[1;32m      4\u001b[0m \u001b[0mhex_jedec_id\u001b[0m \u001b[0;34m=\u001b[0m \u001b[0mhexlify\u001b[0m\u001b[0;34m(\u001b[0m\u001b[0mjedec_id\u001b[0m\u001b[0;34m)\u001b[0m\u001b[0;34m.\u001b[0m\u001b[0mdecode\u001b[0m\u001b[0;34m(\u001b[0m\u001b[0;34m)\u001b[0m\u001b[0;34m\u001b[0m\u001b[0m\n\u001b[1;32m      5\u001b[0m \u001b[0mprint\u001b[0m\u001b[0;34m(\u001b[0m\u001b[0;34m'JEDEC ID:'\u001b[0m\u001b[0;34m,\u001b[0m \u001b[0mhex_jedec_id\u001b[0m\u001b[0;34m)\u001b[0m\u001b[0;34m\u001b[0m\u001b[0m\n",
      "\u001b[0;32m~/.local/lib/python3.5/site-packages/pyftdi/spi.py\u001b[0m in \u001b[0;36mget_port\u001b[0;34m(self, cs, freq, mode)\u001b[0m\n\u001b[1;32m    320\u001b[0m             \u001b[0;32mif\u001b[0m \u001b[0;32mnot\u001b[0m \u001b[0mself\u001b[0m\u001b[0;34m.\u001b[0m\u001b[0m_ftdi\u001b[0m\u001b[0;34m:\u001b[0m\u001b[0;34m\u001b[0m\u001b[0m\n\u001b[1;32m    321\u001b[0m                 \u001b[0;32mraise\u001b[0m \u001b[0mSpiIOError\u001b[0m\u001b[0;34m(\u001b[0m\u001b[0;34m\"FTDI controller not initialized\"\u001b[0m\u001b[0;34m)\u001b[0m\u001b[0;34m\u001b[0m\u001b[0m\n\u001b[0;32m--> 322\u001b[0;31m             \u001b[0;32mif\u001b[0m \u001b[0mcs\u001b[0m \u001b[0;34m>=\u001b[0m \u001b[0mlen\u001b[0m\u001b[0;34m(\u001b[0m\u001b[0mself\u001b[0m\u001b[0;34m.\u001b[0m\u001b[0m_spi_ports\u001b[0m\u001b[0;34m)\u001b[0m\u001b[0;34m:\u001b[0m\u001b[0;34m\u001b[0m\u001b[0m\n\u001b[0m\u001b[1;32m    323\u001b[0m                 \u001b[0;32mraise\u001b[0m \u001b[0mSpiIOError\u001b[0m\u001b[0;34m(\u001b[0m\u001b[0;34m\"No such SPI port\"\u001b[0m\u001b[0;34m)\u001b[0m\u001b[0;34m\u001b[0m\u001b[0m\n\u001b[1;32m    324\u001b[0m             \u001b[0;32mif\u001b[0m \u001b[0;32mnot\u001b[0m \u001b[0;34m(\u001b[0m\u001b[0;36m0\u001b[0m \u001b[0;34m<=\u001b[0m \u001b[0mmode\u001b[0m \u001b[0;34m<=\u001b[0m \u001b[0;36m3\u001b[0m\u001b[0;34m)\u001b[0m\u001b[0;34m:\u001b[0m\u001b[0;34m\u001b[0m\u001b[0m\n",
      "\u001b[0;31mAttributeError\u001b[0m: 'SpiController' object has no attribute '_spi_ports'"
     ]
    }
   ],
   "source": [
    "spi = SpiController(turbo=False)\n",
    "port = spi.get_port(1, freq=3E6, mode=0)\n",
    "jedec_id = port.exchange([0x9f], 3).tobytes()\n",
    "hex_jedec_id = hexlify(jedec_id).decode()\n",
    "print('JEDEC ID:', hex_jedec_id)\n",
    "spi.terminate()"
   ]
  },
  {
   "cell_type": "code",
   "execution_count": 34,
   "metadata": {
    "collapsed": false
   },
   "outputs": [
    {
     "name": "stdout",
     "output_type": "stream",
     "text": [
      "1027 24592 [(1027, 24592, None, 2, 'Dual RS232-HS')]\n"
     ]
    }
   ],
   "source": [
    "# Check presence of device\n",
    "\n",
    "vid=0x0403\n",
    "pid=0x6010\n",
    "\n",
    "Board =  UsbTools.find_all([(vid, pid)]) \n",
    "print(vid,pid,Board) # return: "
   ]
  },
  {
   "cell_type": "code",
   "execution_count": 23,
   "metadata": {
    "collapsed": false
   },
   "outputs": [
    {
     "ename": "SpiIOError",
     "evalue": "Cannot access SPI pins as GPIO",
     "output_type": "error",
     "traceback": [
      "\u001b[0;31m---------------------------------------------------------------------------\u001b[0m",
      "\u001b[0;31mSpiIOError\u001b[0m                                Traceback (most recent call last)",
      "\u001b[0;32m<ipython-input-23-d7eb196e649b>\u001b[0m in \u001b[0;36m<module>\u001b[0;34m()\u001b[0m\n\u001b[1;32m      1\u001b[0m \u001b[0mgpio\u001b[0m \u001b[0;34m=\u001b[0m \u001b[0mspi\u001b[0m\u001b[0;34m.\u001b[0m\u001b[0mget_gpio\u001b[0m\u001b[0;34m(\u001b[0m\u001b[0;34m)\u001b[0m\u001b[0;34m\u001b[0m\u001b[0m\n\u001b[0;32m----> 2\u001b[0;31m \u001b[0mgpio\u001b[0m\u001b[0;34m.\u001b[0m\u001b[0mset_direction\u001b[0m\u001b[0;34m(\u001b[0m\u001b[0;36m0x30\u001b[0m\u001b[0;34m,\u001b[0m \u001b[0;36m0x10\u001b[0m\u001b[0;34m)\u001b[0m\u001b[0;34m\u001b[0m\u001b[0m\n\u001b[0m\u001b[1;32m      3\u001b[0m \u001b[0;34m\u001b[0m\u001b[0m\n\u001b[1;32m      4\u001b[0m \u001b[0;31m# Assert GPO pin\u001b[0m\u001b[0;34m\u001b[0m\u001b[0;34m\u001b[0m\u001b[0m\n\u001b[1;32m      5\u001b[0m \u001b[0mgpio\u001b[0m\u001b[0;34m.\u001b[0m\u001b[0mwrite\u001b[0m\u001b[0;34m(\u001b[0m\u001b[0;36m0x10\u001b[0m\u001b[0;34m)\u001b[0m\u001b[0;34m\u001b[0m\u001b[0m\n",
      "\u001b[0;32m~/.local/lib/python3.5/site-packages/pyftdi/spi.py\u001b[0m in \u001b[0;36mset_direction\u001b[0;34m(self, pins, direction)\u001b[0m\n\u001b[1;32m    222\u001b[0m            \u001b[0;34m:\u001b[0m\u001b[0mparam\u001b[0m \u001b[0mint\u001b[0m \u001b[0mdirection\u001b[0m\u001b[0;34m:\u001b[0m \u001b[0mdirection\u001b[0m \u001b[0mbitfield\u001b[0m \u001b[0;34m(\u001b[0m\u001b[0mhigh\u001b[0m \u001b[0mlevel\u001b[0m \u001b[0;32mfor\u001b[0m \u001b[0moutput\u001b[0m\u001b[0;34m)\u001b[0m\u001b[0;34m\u001b[0m\u001b[0m\n\u001b[1;32m    223\u001b[0m         \"\"\"\n\u001b[0;32m--> 224\u001b[0;31m         \u001b[0mself\u001b[0m\u001b[0;34m.\u001b[0m\u001b[0m_controller\u001b[0m\u001b[0;34m.\u001b[0m\u001b[0mset_gpio_direction\u001b[0m\u001b[0;34m(\u001b[0m\u001b[0mpins\u001b[0m\u001b[0;34m,\u001b[0m \u001b[0mdirection\u001b[0m\u001b[0;34m)\u001b[0m\u001b[0;34m\u001b[0m\u001b[0m\n\u001b[0m\u001b[1;32m    225\u001b[0m \u001b[0;34m\u001b[0m\u001b[0m\n\u001b[1;32m    226\u001b[0m \u001b[0;34m\u001b[0m\u001b[0m\n",
      "\u001b[0;32m~/.local/lib/python3.5/site-packages/pyftdi/spi.py\u001b[0m in \u001b[0;36mset_gpio_direction\u001b[0;34m(self, pins, direction)\u001b[0m\n\u001b[1;32m    420\u001b[0m         \u001b[0;32mwith\u001b[0m \u001b[0mself\u001b[0m\u001b[0;34m.\u001b[0m\u001b[0m_lock\u001b[0m\u001b[0;34m:\u001b[0m\u001b[0;34m\u001b[0m\u001b[0m\n\u001b[1;32m    421\u001b[0m             \u001b[0;32mif\u001b[0m \u001b[0mpins\u001b[0m \u001b[0;34m&\u001b[0m \u001b[0mself\u001b[0m\u001b[0;34m.\u001b[0m\u001b[0m_spi_mask\u001b[0m\u001b[0;34m:\u001b[0m\u001b[0;34m\u001b[0m\u001b[0m\n\u001b[0;32m--> 422\u001b[0;31m                 \u001b[0;32mraise\u001b[0m \u001b[0mSpiIOError\u001b[0m\u001b[0;34m(\u001b[0m\u001b[0;34m'Cannot access SPI pins as GPIO'\u001b[0m\u001b[0;34m)\u001b[0m\u001b[0;34m\u001b[0m\u001b[0m\n\u001b[0m\u001b[1;32m    423\u001b[0m             \u001b[0mmask\u001b[0m \u001b[0;34m=\u001b[0m \u001b[0mself\u001b[0m\u001b[0;34m.\u001b[0m\u001b[0m_get_gpio_mask\u001b[0m\u001b[0;34m(\u001b[0m\u001b[0;34m)\u001b[0m\u001b[0;34m\u001b[0m\u001b[0m\n\u001b[1;32m    424\u001b[0m             \u001b[0;32mif\u001b[0m \u001b[0;34m(\u001b[0m\u001b[0mpins\u001b[0m \u001b[0;34m&\u001b[0m \u001b[0mmask\u001b[0m\u001b[0;34m)\u001b[0m \u001b[0;34m!=\u001b[0m \u001b[0mpins\u001b[0m\u001b[0;34m:\u001b[0m\u001b[0;34m\u001b[0m\u001b[0m\n",
      "\u001b[0;31mSpiIOError\u001b[0m: Cannot access SPI pins as GPIO"
     ]
    }
   ],
   "source": [
    "gpio = spi.get_gpio()\n",
    "gpio.set_direction(0x30, 0x10)\n",
    "\n",
    "# Assert GPO pin\n",
    "gpio.write(0x10)\n",
    "# Write to SPI slace\n",
    "slave.write(b'hello world!')\n",
    "# Release GPO pin\n",
    "gpio.write(0x00)"
   ]
  },
  {
   "cell_type": "code",
   "execution_count": 15,
   "metadata": {
    "collapsed": false
   },
   "outputs": [
    {
     "name": "stdout",
     "output_type": "stream",
     "text": [
      "[(1027, 24592, None, 2, 'Dual RS232-HS')]\n"
     ]
    }
   ],
   "source": []
  },
  {
   "cell_type": "code",
   "execution_count": 29,
   "metadata": {
    "collapsed": false
   },
   "outputs": [],
   "source": [
    "import time\n",
    "from pyftdi.spi import SpiController\n",
    "ctrl = SpiController(cs_count=1, turbo=True)\n",
    "ctrl.configure('ftdi://ftdi:2232h/1')  # Make sure you've loaded libusb-win32 using Zadig\n",
    "spi = ctrl.get_port(cs=0)  # Chip select is 0 -- corresponds to D3\n",
    "spi.set_frequency(3000000)\n",
    "\n",
    "from array import array as Array\n",
    "from pyftdi.ftdi import Ftdi\n",
    "\n",
    "acbus_direction = 0x01 # Bit C0 is output for reset\n",
    "\n",
    "ctrl._ftdi.write_data(Array('B', [Ftdi.SET_BITS_HIGH, 0x00, acbus_direction]))\n",
    "time.sleep(1.0)\n",
    "ctrl._ftdi.write_data(Array('B', [Ftdi.SET_BITS_HIGH, 0x01, acbus_direction]))\n",
    "time.sleep(1.0)"
   ]
  },
  {
   "cell_type": "code",
   "execution_count": 31,
   "metadata": {
    "collapsed": false
   },
   "outputs": [
    {
     "ename": "SpiIOError",
     "evalue": "No such GPIO pins: ff80/0010",
     "output_type": "error",
     "traceback": [
      "\u001b[0;31m---------------------------------------------------------------------------\u001b[0m",
      "\u001b[0;31mSpiIOError\u001b[0m                                Traceback (most recent call last)",
      "\u001b[0;32m<ipython-input-31-0d8e8d355702>\u001b[0m in \u001b[0;36m<module>\u001b[0;34m()\u001b[0m\n\u001b[1;32m     14\u001b[0m \u001b[0;34m\u001b[0m\u001b[0m\n\u001b[1;32m     15\u001b[0m \u001b[0;31m# Assert GPO pin\u001b[0m\u001b[0;34m\u001b[0m\u001b[0;34m\u001b[0m\u001b[0m\n\u001b[0;32m---> 16\u001b[0;31m \u001b[0mgpio\u001b[0m\u001b[0;34m.\u001b[0m\u001b[0mwrite\u001b[0m\u001b[0;34m(\u001b[0m\u001b[0;36m0x10\u001b[0m\u001b[0;34m)\u001b[0m\u001b[0;34m\u001b[0m\u001b[0m\n\u001b[0m\u001b[1;32m     17\u001b[0m \u001b[0;31m# Write to SPI slace\u001b[0m\u001b[0;34m\u001b[0m\u001b[0;34m\u001b[0m\u001b[0m\n\u001b[1;32m     18\u001b[0m \u001b[0mslave\u001b[0m\u001b[0;34m.\u001b[0m\u001b[0mwrite\u001b[0m\u001b[0;34m(\u001b[0m\u001b[0;34mb'hello world!'\u001b[0m\u001b[0;34m)\u001b[0m\u001b[0;34m\u001b[0m\u001b[0m\n",
      "\u001b[0;32m~/.local/lib/python3.5/site-packages/pyftdi/spi.py\u001b[0m in \u001b[0;36mwrite\u001b[0;34m(self, value)\u001b[0m\n\u001b[1;32m    214\u001b[0m            \u001b[0;34m:\u001b[0m\u001b[0mparam\u001b[0m \u001b[0mint\u001b[0m \u001b[0mvalue\u001b[0m\u001b[0;34m:\u001b[0m \u001b[0mthe\u001b[0m \u001b[0mGPIO\u001b[0m \u001b[0mport\u001b[0m \u001b[0mpins\u001b[0m \u001b[0;32mas\u001b[0m \u001b[0ma\u001b[0m \u001b[0mbitfield\u001b[0m\u001b[0;34m\u001b[0m\u001b[0m\n\u001b[1;32m    215\u001b[0m         \"\"\"\n\u001b[0;32m--> 216\u001b[0;31m         \u001b[0;32mreturn\u001b[0m \u001b[0mself\u001b[0m\u001b[0;34m.\u001b[0m\u001b[0m_controller\u001b[0m\u001b[0;34m.\u001b[0m\u001b[0mwrite_gpio\u001b[0m\u001b[0;34m(\u001b[0m\u001b[0mvalue\u001b[0m\u001b[0;34m)\u001b[0m\u001b[0;34m\u001b[0m\u001b[0m\n\u001b[0m\u001b[1;32m    217\u001b[0m \u001b[0;34m\u001b[0m\u001b[0m\n\u001b[1;32m    218\u001b[0m     \u001b[0;32mdef\u001b[0m \u001b[0mset_direction\u001b[0m\u001b[0;34m(\u001b[0m\u001b[0mself\u001b[0m\u001b[0;34m,\u001b[0m \u001b[0mpins\u001b[0m\u001b[0;34m,\u001b[0m \u001b[0mdirection\u001b[0m\u001b[0;34m)\u001b[0m\u001b[0;34m:\u001b[0m\u001b[0;34m\u001b[0m\u001b[0m\n",
      "\u001b[0;32m~/.local/lib/python3.5/site-packages/pyftdi/spi.py\u001b[0m in \u001b[0;36mwrite_gpio\u001b[0;34m(self, value)\u001b[0m\n\u001b[1;32m    403\u001b[0m             \u001b[0;32mif\u001b[0m \u001b[0;34m(\u001b[0m\u001b[0mvalue\u001b[0m \u001b[0;34m&\u001b[0m \u001b[0mmask\u001b[0m\u001b[0;34m)\u001b[0m \u001b[0;34m!=\u001b[0m \u001b[0mvalue\u001b[0m\u001b[0;34m:\u001b[0m\u001b[0;34m\u001b[0m\u001b[0m\n\u001b[1;32m    404\u001b[0m                 raise SpiIOError('No such GPIO pins: %04x/%04x' %\n\u001b[0;32m--> 405\u001b[0;31m                                  (mask, value))\n\u001b[0m\u001b[1;32m    406\u001b[0m             \u001b[0;31m# perform read-modify-write\u001b[0m\u001b[0;34m\u001b[0m\u001b[0;34m\u001b[0m\u001b[0m\n\u001b[1;32m    407\u001b[0m             \u001b[0muse_high\u001b[0m \u001b[0;34m=\u001b[0m \u001b[0mself\u001b[0m\u001b[0;34m.\u001b[0m\u001b[0m_wide_port\u001b[0m \u001b[0;32mand\u001b[0m \u001b[0;34m(\u001b[0m\u001b[0mself\u001b[0m\u001b[0;34m.\u001b[0m\u001b[0mdirection\u001b[0m \u001b[0;34m&\u001b[0m \u001b[0;36m0xff00\u001b[0m\u001b[0;34m)\u001b[0m\u001b[0;34m\u001b[0m\u001b[0m\n",
      "\u001b[0;31mSpiIOError\u001b[0m: No such GPIO pins: ff80/0010"
     ]
    }
   ],
   "source": [
    "# Instanciate a SPI controller\n",
    "spi = SpiController()\n",
    "\n",
    "# Configure the first interface (IF/1) of the first FTDI device as a\n",
    "# SPI master\n",
    "spi.configure('ftdi://::/1')\n",
    "\n",
    "# Get a SPI port to a SPI slave w/ /CS on A*BUS3 and SPI mode 0 @ 12MHz\n",
    "slave = spi.get_port(cs=0, freq=12E6, mode=0)\n",
    "\n",
    "# Get GPIO port to manage extra pins, use A*BUS4 as GPO, A*BUS4 as GPI\n",
    "gpio = spi.get_gpio()\n",
    "#gpio.set_direction(0x30, 0x10)\n",
    "\n",
    "# Assert GPO pin\n",
    "gpio.write(0x10)\n",
    "# Write to SPI slace\n",
    "slave.write(b'hello world!')\n",
    "# Release GPO pin\n",
    "gpio.write(0x00)\n",
    "# Test GPI pin\n",
    "pin = bool(gpio.read() & 0x20)"
   ]
  },
  {
   "cell_type": "code",
   "execution_count": 32,
   "metadata": {
    "collapsed": false
   },
   "outputs": [
    {
     "data": {
      "text/plain": [
       "65408"
      ]
     },
     "execution_count": 32,
     "metadata": {},
     "output_type": "execute_result"
    }
   ],
   "source": [
    "0xff80"
   ]
  },
  {
   "cell_type": "code",
   "execution_count": null,
   "metadata": {
    "collapsed": true
   },
   "outputs": [],
   "source": []
  }
 ],
 "metadata": {
  "kernelspec": {
   "display_name": "Python 3",
   "language": "python",
   "name": "python3"
  },
  "language_info": {
   "codemirror_mode": {
    "name": "ipython",
    "version": 3
   },
   "file_extension": ".py",
   "mimetype": "text/x-python",
   "name": "python",
   "nbconvert_exporter": "python",
   "pygments_lexer": "ipython3",
   "version": "3.5.2"
  }
 },
 "nbformat": 4,
 "nbformat_minor": 2
}
