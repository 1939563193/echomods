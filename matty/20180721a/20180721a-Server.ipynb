{
 "cells": [
  {
   "cell_type": "markdown",
   "metadata": {},
   "source": [
    "# `20180721a` - Introducing classes - version un0_e"
   ]
  },
  {
   "cell_type": "code",
   "execution_count": 1,
   "metadata": {},
   "outputs": [
    {
     "name": "stdout",
     "output_type": "stream",
     "text": [
      "pyexiv2 does not exist on RPi\n"
     ]
    }
   ],
   "source": [
    "#!/usr/bin/python\n",
    "import spidev\n",
    "import RPi.GPIO as GPIO\n",
    "import time\n",
    "import numpy as np\n",
    "import matplotlib\n",
    "matplotlib.use('Agg')\n",
    "import matplotlib.pyplot as plt\n",
    "import json\n",
    "import time\n",
    "from pyUn0 import *"
   ]
  },
  {
   "cell_type": "code",
   "execution_count": 2,
   "metadata": {},
   "outputs": [
    {
     "name": "stderr",
     "output_type": "stream",
     "text": [
      "pyUn0.py:97: RuntimeWarning: This channel is already in use, continuing anyway.  Use GPIO.setwarnings(False) to disable warnings.\n",
      "  GPIO.setup(CS_FLASH,GPIO.OUT)\n"
     ]
    },
    {
     "name": "stdout",
     "output_type": "stream",
     "text": [
      "Reset GPIO 23 - Low 1s\n",
      "Reset GPIO 23 - High 0.2s\n",
      "spi.cshigh is False\n",
      "spi mode is 1\n",
      "spi maxspeed is 2000000hz\n",
      "Pulse width: 200  ns --  0x19\n",
      "Pulses delay: 100  ns --  0xc\n",
      "Poff: 2000  ns --  0x1 0x0\n",
      "Delay between: 7000 ns --  0x3 0x80\n",
      "Config FPGA done!\n"
     ]
    }
   ],
   "source": [
    "x = us_spi()\n",
    "x.JSON = {}\n",
    "x.JSON[\"firmware_md5\"]=\"fa6a7560ade6d6b1149b6e78e0de051f\"\n",
    "x.JSON[\"firmware_version\"]=\"e_un0\"\n",
    "x.JSON[\"data\"]=[]\n",
    "x.JSON[\"registers\"]={}\n",
    "x.JSON[\"parameters\"]={}\n",
    "\n",
    "x.StartUp()\n",
    "x.ConfigSPI()\n",
    "\n",
    "f = 0x00\n",
    "x.WriteFPGA(0xED,f) # Frequency of ADC acquisition / sEEADC_freq (3 = 16Msps, 1 = 32, 0 = 64, 2 = 21Msps)"
   ]
  },
  {
   "cell_type": "code",
   "execution_count": 3,
   "metadata": {},
   "outputs": [],
   "source": [
    "#LoopSPI(spi)"
   ]
  },
  {
   "cell_type": "code",
   "execution_count": 3,
   "metadata": {},
   "outputs": [],
   "source": [
    "x.TestSPI(3) # LED2 clignote 3x"
   ]
  },
  {
   "cell_type": "code",
   "execution_count": 4,
   "metadata": {},
   "outputs": [
    {
     "data": {
      "text/plain": [
       "{'data': [],\n",
       " 'firmware_md5': 'fa6a7560ade6d6b1149b6e78e0de051f',\n",
       " 'firmware_version': 'e_un0',\n",
       " 'parameters': {'DeltaAcq': 7000,\n",
       "  'DeltaAcq_Real': 114,\n",
       "  'Poff': 2000,\n",
       "  'Poff_Real': 32,\n",
       "  'Pon': 200,\n",
       "  'Pon_Real': 3,\n",
       "  'PulsesDelay': 100,\n",
       "  'PulsesDelay_Real': 1},\n",
       " 'registers': {208: 12,\n",
       "  224: 25,\n",
       "  225: 1,\n",
       "  226: 0,\n",
       "  227: 3,\n",
       "  228: 128,\n",
       "  235: 0,\n",
       "  236: 51,\n",
       "  237: 0,\n",
       "  238: 160}}"
      ]
     },
     "execution_count": 4,
     "metadata": {},
     "output_type": "execute_result"
    }
   ],
   "source": [
    "x.JSON"
   ]
  },
  {
   "cell_type": "code",
   "execution_count": 5,
   "metadata": {
    "scrolled": true
   },
   "outputs": [
    {
     "name": "stdout",
     "output_type": "stream",
     "text": [
      "[0, 25, 50, 75, 100, 125, 150, 175, 200, 225, 250, 275, 300, 325, 350, 375, 400, 425, 450, 475, 500, 525, 550, 575, 600, 625, 650, 675, 700, 725, 750, 775, 800, 825, 850, 875, 900, 925, 950, 0, 0] 41\n"
     ]
    }
   ],
   "source": [
    "Curve = x.CreateDACCurve(0,1000,True)[0] # Beginning, Ending, Linear (if False, expo)\n",
    "print Curve,len(Curve)\n",
    "#setDACConstant(0x77,spi)\n",
    "x.setDACCurve(Curve)"
   ]
  },
  {
   "cell_type": "code",
   "execution_count": 8,
   "metadata": {},
   "outputs": [],
   "source": [
    "N=0"
   ]
  },
  {
   "cell_type": "code",
   "execution_count": 9,
   "metadata": {},
   "outputs": [],
   "source": [
    "x.JSON[\"experiment\"]={}\n",
    "x.JSON[\"experiment\"][\"id\"] = \"20180721a\"\n",
    "x.JSON[\"experiment\"][\"description\"]=\"Classical experiment with calibration piezo\"\n",
    "x.JSON[\"experiment\"][\"target\"] = \"calibration rig\"\n",
    "x.JSON[\"experiment\"][\"position\"] = \"0\"\n",
    "x.JSON[\"V\"]=\"25\"\n",
    "\n",
    "#x.WriteFPGA(0xEC,0x01) # Doing 10 lines\n",
    "x.WriteFPGA(0xEB,0x00) # Doing one line if 0, several if 1\n",
    "x.WriteFPGA(0xEC,0x01) # Doing 1 lines\n",
    "if x.JSON[\"registers\"][235]: # means it's set to 1, ie that's multiples lines\n",
    "    NLines = x.JSON[\"registers\"][236]\n",
    "else:\n",
    "    NLines = 1"
   ]
  },
  {
   "cell_type": "code",
   "execution_count": 10,
   "metadata": {},
   "outputs": [
    {
     "name": "stdout",
     "output_type": "stream",
     "text": [
      "Pulse width: 200  ns --  0x19\n",
      "Pulses delay: 295  ns --  0x25\n",
      "Poff: 2484  ns --  0x1 0x3d\n",
      "Delay between: 2970 ns --  0x1 0x7c\n",
      "Acquisition length:  3373.824  us --  0x66 0xf6\n",
      "Nacq= 12800 , LAcq= 200 , Fech= 64 , NLines= 1\n",
      "Acquisition #1 done.\n"
     ]
    }
   ],
   "source": [
    "# Experiment \n",
    "N = N+1\n",
    "x.JSON[\"N\"] = N\n",
    "\n",
    "# Timings\n",
    "t1 = 200\n",
    "t2 = 100\n",
    "t3 = 2000\n",
    "t4 = 300-t1-t2+10\n",
    "t5 = 200000\n",
    "\n",
    "# DAC\n",
    "Curve = x.CreateDACCurve(0,0,True)[0]\n",
    "x.setDACCurve(Curve)\n",
    "x.setPulseTrain(t1,t2,t3,t4,t5)\n",
    "    \n",
    "# Trigger\n",
    "x.WriteFPGA(0xEF,0x01) # Cleaning memory pointer\n",
    "x.WriteFPGA(0xEA,0x01) # Software Trig : As to be clear by software\n",
    "\n",
    "Fech = int(64/((1+f)))\n",
    "LAcq = t5/1000 #ns to us \n",
    "Nacq = LAcq * Fech * NLines\n",
    "\n",
    "A = []\n",
    "for i in range(2*Nacq+1):\n",
    "    A.append ( x.spi.xfer([0x00] )[0] )\n",
    "a = np.asarray(A).astype(np.int16)\n",
    "x.JSON[\"data\"] = A\n",
    "\n",
    "with open(x.JSON[\"experiment\"][\"id\"]+'-'+str(N)+\".json\", 'w') as outfile:\n",
    "    json.dump(x.JSON, outfile)\n",
    "    \n",
    "print \"Nacq=\",Nacq,\", LAcq=\",LAcq,\", Fech=\",Fech,\", NLines=\",NLines \n",
    "print \"Acquisition #\"+str(N)+\" done.\""
   ]
  }
 ],
 "metadata": {
  "kernelspec": {
   "display_name": "Python 2",
   "language": "python",
   "name": "python2"
  },
  "language_info": {
   "codemirror_mode": {
    "name": "ipython",
    "version": 2
   },
   "file_extension": ".py",
   "mimetype": "text/x-python",
   "name": "python",
   "nbconvert_exporter": "python",
   "pygments_lexer": "ipython2",
   "version": "2.7.9"
  }
 },
 "nbformat": 4,
 "nbformat_minor": 2
}
