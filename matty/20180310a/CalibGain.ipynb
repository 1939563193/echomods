{
 "cells": [
  {
   "cell_type": "code",
   "execution_count": 10,
   "metadata": {
    "collapsed": false
   },
   "outputs": [
    {
     "name": "stdout",
     "output_type": "stream",
     "text": [
      "[530, 529, 529, 528, 528, 527, 527, 526, 526, 525, 525, 524, 524, 523, 523, 522, 522, 521, 521, 520, 520, 519, 519, 518, 518, 517, 517, 516, 516, 515, 515, 514, 514, 513, 513, 512, 512, 511, 511, 510, 510] 41\n"
     ]
    }
   ],
   "source": [
    "import matplotlib.pyplot as plt\n",
    "\n",
    "Deb = 530\n",
    "Fin = 510\n",
    "n = 200/5\n",
    "DAClValues = []\n",
    "for k in range(n+1):\n",
    "    val = int(Deb+1.0*k*(Fin-Deb)/n)\n",
    "    #print hex(val/4)\n",
    "    DAClValues.append(val) \n",
    "print DAClValues,len(DAClValues)"
   ]
  },
  {
   "cell_type": "code",
   "execution_count": 11,
   "metadata": {
    "collapsed": false
   },
   "outputs": [
    {
     "name": "stdout",
     "output_type": "stream",
     "text": [
      "[530, 529, 529, 529, 529, 529, 529, 529, 529, 529, 529, 529, 529, 529, 529, 528, 528, 528, 528, 527, 527, 527, 526, 526, 525, 525, 524, 523, 523, 522, 521, 520, 519, 518, 517, 516, 515, 514, 512, 511, 510] 41\n"
     ]
    }
   ],
   "source": [
    "DACeValues = []\n",
    "t = []\n",
    "for k in range(n+1):\n",
    "    val = (Fin-Deb)*k**3/n**3+Deb\n",
    "    t.append(5*k)\n",
    "    DACeValues.append(val) \n",
    "print DACeValues,len(DACeValues)"
   ]
  },
  {
   "cell_type": "code",
   "execution_count": 12,
   "metadata": {
    "collapsed": false
   },
   "outputs": [
    {
     "data": {
      "image/png": "[encoded data removed]",
      "text/plain": [
       "<matplotlib.figure.Figure at 0x7f73d0606290>"
      ]
     },
     "metadata": {},
     "output_type": "display_data"
    }
   ],
   "source": [
    "plt.plot(t,DAClValues,\"go\")\n",
    "plt.plot(t,DACeValues,\"ro\")\n",
    "plt.show()"
   ]
  },
  {
   "cell_type": "code",
   "execution_count": 13,
   "metadata": {
    "collapsed": false
   },
   "outputs": [
    {
     "name": "stdout",
     "output_type": "stream",
     "text": [
      "16 530\n",
      "17 529\n",
      "18 529\n",
      "19 528\n",
      "20 528\n",
      "21 527\n",
      "22 527\n",
      "23 526\n",
      "24 526\n",
      "25 525\n",
      "26 525\n",
      "27 524\n",
      "28 524\n",
      "29 523\n",
      "30 523\n",
      "31 522\n",
      "32 522\n",
      "33 521\n",
      "34 521\n",
      "35 520\n",
      "36 520\n",
      "37 519\n",
      "38 519\n",
      "39 518\n",
      "40 518\n",
      "41 517\n",
      "42 517\n",
      "43 516\n",
      "44 516\n",
      "45 515\n",
      "46 515\n",
      "47 514\n",
      "48 514\n",
      "49 513\n",
      "50 513\n",
      "51 512\n",
      "52 512\n",
      "53 511\n",
      "54 511\n",
      "55 510\n",
      "56 510\n"
     ]
    }
   ],
   "source": [
    "for i in range(len(DAClValues)):\n",
    "    if (DAClValues[i] >= 0) and (DAClValues[i] < 1020):\n",
    "        print 16+i,DAClValues[i]"
   ]
  },
  {
   "cell_type": "code",
   "execution_count": null,
   "metadata": {
    "collapsed": true
   },
   "outputs": [],
   "source": []
  },
  {
   "cell_type": "code",
   "execution_count": null,
   "metadata": {
    "collapsed": true
   },
   "outputs": [],
   "source": []
  }
 ],
 "metadata": {
  "kernelspec": {
   "display_name": "Python 2",
   "language": "python",
   "name": "python2"
  },
  "language_info": {
   "codemirror_mode": {
    "name": "ipython",
    "version": 2
   },
   "file_extension": ".py",
   "mimetype": "text/x-python",
   "name": "python",
   "nbconvert_exporter": "python",
   "pygments_lexer": "ipython2",
   "version": "2.7.12"
  }
 },
 "nbformat": 4,
 "nbformat_minor": 2
}
