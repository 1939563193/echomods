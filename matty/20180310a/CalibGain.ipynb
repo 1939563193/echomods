{
 "cells": [
  {
   "cell_type": "markdown",
   "metadata": {},
   "source": [
    "# Testing DAC - `20180310a`"
   ]
  },
  {
   "cell_type": "code",
   "execution_count": 1,
   "metadata": {
    "collapsed": false
   },
   "outputs": [
    {
     "name": "stdout",
     "output_type": "stream",
     "text": [
      "[100, 122, 145, 167, 190, 212, 235, 257, 280, 302, 325, 347, 370, 392, 415, 437, 460, 482, 505, 527, 550, 572, 595, 617, 640, 662, 685, 707, 730, 752, 775, 797, 820, 842, 865, 887, 910, 932, 955, 977, 1000] 41\n"
     ]
    }
   ],
   "source": [
    "import matplotlib.pyplot as plt\n",
    "\n",
    "Deb = 100\n",
    "Fin = 1000\n",
    "n = 200/5\n",
    "DAClValues = []\n",
    "for k in range(n+1):\n",
    "    val = int(Deb+1.0*k*(Fin-Deb)/n)\n",
    "    #print hex(val/4)\n",
    "    DAClValues.append(val) \n",
    "print DAClValues,len(DAClValues)"
   ]
  },
  {
   "cell_type": "code",
   "execution_count": 6,
   "metadata": {
    "collapsed": false
   },
   "outputs": [
    {
     "name": "stdout",
     "output_type": "stream",
     "text": [
      "[0.1, 0.1, 0.1, 0.1, 0.1, 0.101, 0.103, 0.104, 0.107, 0.11, 0.114, 0.118, 0.124, 0.13, 0.138, 0.147, 0.157, 0.169, 0.182, 0.196, 0.212, 0.23, 0.249, 0.271, 0.294, 0.319, 0.347, 0.376, 0.408, 0.442, 0.479, 0.518, 0.56, 0.605, 0.652, 0.702, 0.756, 0.812, 0.871, 0.934, 1.0] 41\n"
     ]
    }
   ],
   "source": [
    "DACeValues = []\n",
    "t = []\n",
    "for k in range(n+1):\n",
    "    val = (Fin-Deb)*k**3/n**3+Deb\n",
    "    t.append(5*k)\n",
    "    DACeValues.append(val/1000.0) \n",
    "print DACeValues,len(DACeValues)"
   ]
  },
  {
   "cell_type": "code",
   "execution_count": 7,
   "metadata": {
    "collapsed": false
   },
   "outputs": [
    {
     "data": {
      "image/png": "[encoded data removed]",
      "text/plain": [
       "<matplotlib.figure.Figure at 0x7f68556926d0>"
      ]
     },
     "metadata": {},
     "output_type": "display_data"
    }
   ],
   "source": [
    "#plt.plot(t,DAClValues,\"go\")\n",
    "plt.plot(t,DACeValues,\"ro\")\n",
    "plt.\n",
    "plt.show()"
   ]
  },
  {
   "cell_type": "code",
   "execution_count": 4,
   "metadata": {
    "collapsed": false
   },
   "outputs": [
    {
     "name": "stdout",
     "output_type": "stream",
     "text": [
      "16 100\n",
      "17 122\n",
      "18 145\n",
      "19 167\n",
      "20 190\n",
      "21 212\n",
      "22 235\n",
      "23 257\n",
      "24 280\n",
      "25 302\n",
      "26 325\n",
      "27 347\n",
      "28 370\n",
      "29 392\n",
      "30 415\n",
      "31 437\n",
      "32 460\n",
      "33 482\n",
      "34 505\n",
      "35 527\n",
      "36 550\n",
      "37 572\n",
      "38 595\n",
      "39 617\n",
      "40 640\n",
      "41 662\n",
      "42 685\n",
      "43 707\n",
      "44 730\n",
      "45 752\n",
      "46 775\n",
      "47 797\n",
      "48 820\n",
      "49 842\n",
      "50 865\n",
      "51 887\n",
      "52 910\n",
      "53 932\n",
      "54 955\n",
      "55 977\n",
      "56 1000\n"
     ]
    }
   ],
   "source": [
    "for i in range(len(DAClValues)):\n",
    "    if (DAClValues[i] >= 0) and (DAClValues[i] < 1020):\n",
    "        print 16+i,DAClValues[i]"
   ]
  },
  {
   "cell_type": "code",
   "execution_count": null,
   "metadata": {
    "collapsed": true
   },
   "outputs": [],
   "source": []
  },
  {
   "cell_type": "code",
   "execution_count": null,
   "metadata": {
    "collapsed": true
   },
   "outputs": [],
   "source": []
  }
 ],
 "metadata": {
  "kernelspec": {
   "display_name": "Python 2",
   "language": "python",
   "name": "python2"
  },
  "language_info": {
   "codemirror_mode": {
    "name": "ipython",
    "version": 2
   },
   "file_extension": ".py",
   "mimetype": "text/x-python",
   "name": "python",
   "nbconvert_exporter": "python",
   "pygments_lexer": "ipython2",
   "version": "2.7.12"
  }
 },
 "nbformat": 4,
 "nbformat_minor": 2
}
