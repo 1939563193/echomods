{
 "cells": [
  {
   "cell_type": "markdown",
   "metadata": {},
   "source": [
    "# Testing DAC - `20180310a` xlabel(txt)"
   ]
  },
  {
   "cell_type": "code",
   "execution_count": 1,
   "metadata": {
    "collapsed": false
   },
   "outputs": [
    {
     "name": "stdout",
     "output_type": "stream",
     "text": [
      "[100, 122, 145, 167, 190, 212, 235, 257, 280, 302, 325, 347, 370, 392, 415, 437, 460, 482, 505, 527, 550, 572, 595, 617, 640, 662, 685, 707, 730, 752, 775, 797, 820, 842, 865, 887, 910, 932, 955, 977, 1000] 41\n"
     ]
    }
   ],
   "source": [
    "import matplotlib.pyplot as plt\n",
    "\n",
    "Deb = 100\n",
    "Fin = 1000\n",
    "n = 200/5\n",
    "DAClValues = []\n",
    "for k in range(n+1):\n",
    "    val = int(Deb+1.0*k*(Fin-Deb)/n)\n",
    "    #print hex(val/4)\n",
    "    DAClValues.append(val) \n",
    "print DAClValues,len(DAClValues)"
   ]
  },
  {
   "cell_type": "code",
   "execution_count": 2,
   "metadata": {
    "collapsed": false
   },
   "outputs": [
    {
     "name": "stdout",
     "output_type": "stream",
     "text": [
      "[0.1, 0.1, 0.1, 0.1, 0.1, 0.101, 0.103, 0.104, 0.107, 0.11, 0.114, 0.118, 0.124, 0.13, 0.138, 0.147, 0.157, 0.169, 0.182, 0.196, 0.212, 0.23, 0.249, 0.271, 0.294, 0.319, 0.347, 0.376, 0.408, 0.442, 0.479, 0.518, 0.56, 0.605, 0.652, 0.702, 0.756, 0.812, 0.871, 0.934, 1.0] 41\n"
     ]
    }
   ],
   "source": [
    "DACeValues = []\n",
    "t = []\n",
    "for k in range(n+1):\n",
    "    val = (Fin-Deb)*k**3/n**3+Deb\n",
    "    t.append(5*k)\n",
    "    DACeValues.append(val/1000.0) \n",
    "print DACeValues,len(DACeValues)"
   ]
  },
  {
   "cell_type": "code",
   "execution_count": 12,
   "metadata": {
    "collapsed": false
   },
   "outputs": [
    {
     "data": {
      "image/png": "[encoded data removed]",
      "text/plain": [
       "<matplotlib.figure.Figure at 0x7f5b7c3393d0>"
      ]
     },
     "metadata": {},
     "output_type": "display_data"
    }
   ],
   "source": [
    "#plt.plot(t,DAClValues,\"go\")\n",
    "plt.plot(t,DACeValues,\"ro\")\n",
    "plt.ylabel(\"Volts\")\n",
    "plt.xlabel(\"time, in us\")\n",
    "plt.savefig(\"./gain.jpg\")\n",
    "plt.show()"
   ]
  },
  {
   "cell_type": "code",
   "execution_count": 13,
   "metadata": {
    "collapsed": false
   },
   "outputs": [
    {
     "name": "stdout",
     "output_type": "stream",
     "text": [
      "16 100.0\n",
      "17 100.0\n",
      "18 100.0\n",
      "19 100.0\n",
      "20 100.0\n",
      "21 101.0\n",
      "22 103.0\n",
      "23 104.0\n",
      "24 107.0\n",
      "25 110.0\n",
      "26 114.0\n",
      "27 118.0\n",
      "28 124.0\n",
      "29 130.0\n",
      "30 138.0\n",
      "31 147.0\n",
      "32 157.0\n",
      "33 169.0\n",
      "34 182.0\n",
      "35 196.0\n",
      "36 212.0\n",
      "37 230.0\n",
      "38 249.0\n",
      "39 271.0\n",
      "40 294.0\n",
      "41 319.0\n",
      "42 347.0\n",
      "43 376.0\n",
      "44 408.0\n",
      "45 442.0\n",
      "46 479.0\n",
      "47 518.0\n",
      "48 560.0\n",
      "49 605.0\n",
      "50 652.0\n",
      "51 702.0\n",
      "52 756.0\n",
      "53 812.0\n",
      "54 871.0\n",
      "55 934.0\n",
      "56 1000.0\n"
     ]
    }
   ],
   "source": [
    "for i in range(len(DACeValues)):\n",
    "    if (DACeValues[i] >= 0) and (DACeValues[i] < 1020):\n",
    "        print 16+i,DACeValues[i]*1000"
   ]
  },
  {
   "cell_type": "code",
   "execution_count": null,
   "metadata": {
    "collapsed": true
   },
   "outputs": [],
   "source": []
  },
  {
   "cell_type": "code",
   "execution_count": null,
   "metadata": {
    "collapsed": true
   },
   "outputs": [],
   "source": []
  }
 ],
 "metadata": {
  "kernelspec": {
   "display_name": "Python 2",
   "language": "python",
   "name": "python2"
  },
  "language_info": {
   "codemirror_mode": {
    "name": "ipython",
    "version": 2
   },
   "file_extension": ".py",
   "mimetype": "text/x-python",
   "name": "python",
   "nbconvert_exporter": "python",
   "pygments_lexer": "ipython2",
   "version": "2.7.12"
  }
 },
 "nbformat": 4,
 "nbformat_minor": 2
}
