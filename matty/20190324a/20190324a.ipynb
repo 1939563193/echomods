{
 "cells": [
  {
   "cell_type": "markdown",
   "metadata": {},
   "source": [
    "#  `20190324a` - test lit3rick firmware"
   ]
  },
  {
   "cell_type": "code",
   "execution_count": 1,
   "metadata": {
    "collapsed": false
   },
   "outputs": [
    {
     "name": "stderr",
     "output_type": "stream",
     "text": [
      "/usr/lib/python2.7/dist-packages/matplotlib/__init__.py:1403: UserWarning:  This call to matplotlib.use() has no effect\n",
      "because the backend has already been chosen;\n",
      "matplotlib.use() must be called *before* pylab, matplotlib.pyplot,\n",
      "or matplotlib.backends is imported for the first time.\n",
      "\n",
      "  warnings.warn(_use_error_msg)\n"
     ]
    }
   ],
   "source": [
    "#!/usr/bin/python\n",
    "import spidev\n",
    "import RPi.GPIO as GPIO\n",
    "import time\n",
    "import numpy as np\n",
    "import matplotlib\n",
    "import matplotlib.pyplot as plt\n",
    "import json\n",
    "import time\n",
    "from time import sleep\n",
    "\n",
    "matplotlib.use('Agg')"
   ]
  },
  {
   "cell_type": "code",
   "execution_count": 32,
   "metadata": {
    "collapsed": true
   },
   "outputs": [],
   "source": [
    "def WriteFPGA(spi,adress,value):\n",
    "    spi.xfer([0xAA] )\n",
    "    spi.xfer([adress] )\n",
    "    spi.xfer([value] )\n",
    "    \n",
    "    \n",
    "def StartUp():\n",
    "    GPIO.setmode(GPIO.BCM)\n",
    "    PRESET = 25\n",
    "\n",
    "\n",
    "    spi = spidev.SpiDev()\n",
    "    spi.open(0,0) # CS2 - FPGA, on CE1 = IO4\n",
    "    spi.mode = 0b01\n",
    "    print \"spi.cshigh is \" + str(spi.cshigh)\n",
    "    print \"spi mode is \" + str(spi.mode)\n",
    "    spi.max_speed_hz = 20000000\n",
    "    return spi"
   ]
  },
  {
   "cell_type": "code",
   "execution_count": 33,
   "metadata": {
    "collapsed": false
   },
   "outputs": [
    {
     "name": "stdout",
     "output_type": "stream",
     "text": [
      "spi.cshigh is False\n",
      "spi mode is 1\n",
      "------\n"
     ]
    }
   ],
   "source": [
    "spi = StartUp()\n",
    "print(\"------\")\n"
   ]
  },
  {
   "cell_type": "code",
   "execution_count": 10,
   "metadata": {
    "collapsed": false
   },
   "outputs": [
    {
     "ename": "KeyboardInterrupt",
     "evalue": "",
     "output_type": "error",
     "traceback": [
      "\u001b[0;31m---------------------------------------------------------------------------\u001b[0m",
      "\u001b[0;31mKeyboardInterrupt\u001b[0m                         Traceback (most recent call last)",
      "\u001b[0;32m<ipython-input-10-e8e0bc585d4f>\u001b[0m in \u001b[0;36m<module>\u001b[0;34m()\u001b[0m\n\u001b[1;32m      3\u001b[0m     \u001b[0msleep\u001b[0m\u001b[0;34m(\u001b[0m\u001b[0;36m0.25\u001b[0m\u001b[0;34m)\u001b[0m\u001b[0;34m\u001b[0m\u001b[0m\n\u001b[1;32m      4\u001b[0m     \u001b[0mWriteFPGA\u001b[0m\u001b[0;34m(\u001b[0m\u001b[0mspi\u001b[0m\u001b[0;34m,\u001b[0m\u001b[0;36m0xC2\u001b[0m\u001b[0;34m,\u001b[0m\u001b[0;36m0x01\u001b[0m\u001b[0;34m)\u001b[0m\u001b[0;34m\u001b[0m\u001b[0m\n\u001b[0;32m----> 5\u001b[0;31m     \u001b[0msleep\u001b[0m\u001b[0;34m(\u001b[0m\u001b[0;36m0.25\u001b[0m\u001b[0;34m)\u001b[0m\u001b[0;34m\u001b[0m\u001b[0m\n\u001b[0m",
      "\u001b[0;31mKeyboardInterrupt\u001b[0m: "
     ]
    }
   ],
   "source": [
    "while 1:\n",
    "    WriteFPGA(spi,0xC2,0x00)\n",
    "    sleep(0.25)\n",
    "    WriteFPGA(spi,0xC2,0x01)\n",
    "    sleep(0.25)"
   ]
  },
  {
   "cell_type": "code",
   "execution_count": 34,
   "metadata": {
    "collapsed": false
   },
   "outputs": [
    {
     "ename": "KeyboardInterrupt",
     "evalue": "",
     "output_type": "error",
     "traceback": [
      "\u001b[0;31m---------------------------------------------------------------------------\u001b[0m",
      "\u001b[0;31mKeyboardInterrupt\u001b[0m                         Traceback (most recent call last)",
      "\u001b[0;32m<ipython-input-34-a6d8f69a256a>\u001b[0m in \u001b[0;36m<module>\u001b[0;34m()\u001b[0m\n\u001b[1;32m      1\u001b[0m \u001b[0;32mwhile\u001b[0m \u001b[0;36m1\u001b[0m\u001b[0;34m:\u001b[0m\u001b[0;34m\u001b[0m\u001b[0m\n\u001b[1;32m      2\u001b[0m     \u001b[0mWriteFPGA\u001b[0m\u001b[0;34m(\u001b[0m\u001b[0mspi\u001b[0m\u001b[0;34m,\u001b[0m\u001b[0;36m0xEA\u001b[0m\u001b[0;34m,\u001b[0m\u001b[0;36m0x01\u001b[0m\u001b[0;34m)\u001b[0m\u001b[0;34m\u001b[0m\u001b[0m\n\u001b[0;32m----> 3\u001b[0;31m     \u001b[0msleep\u001b[0m\u001b[0;34m(\u001b[0m\u001b[0;36m0.05\u001b[0m\u001b[0;34m)\u001b[0m\u001b[0;34m\u001b[0m\u001b[0m\n\u001b[0m",
      "\u001b[0;31mKeyboardInterrupt\u001b[0m: "
     ]
    }
   ],
   "source": [
    "while 1:\n",
    "    WriteFPGA(spi,0xEA,0x01)\n",
    "    sleep(0.05)"
   ]
  },
  {
   "cell_type": "code",
   "execution_count": 30,
   "metadata": {
    "collapsed": true
   },
   "outputs": [],
   "source": [
    "WriteFPGA(spi,0xD3,0x02) # delayall\n",
    "WriteFPGA(spi,0xE0,0x1B) # \n",
    "WriteFPGA(spi,0xD3,0x27) # \n",
    "WriteFPGA(spi,0xD1,0x40) # \n",
    "WriteFPGA(spi,0xD2,0x4C) # \n",
    "WriteFPGA(spi,0xEC,0x7D) # TGC sEEDAC_GAIN\n",
    "WriteFPGA(spi,0xED,0x01) # Speed ADC\n",
    "\n",
    "\n",
    "\n",
    "WriteFPGA(spi,0xE1,0x01) # sEEPdamp MSB\n",
    "WriteFPGA(spi,0xE2,0x4C) # sEEPdamp LSB\n",
    "\n",
    "WriteFPGA(spi,0xE3,0x04) # sEEDelayACQ MSB\n",
    "WriteFPGA(spi,0xE4,0xCC) # sEEDelayACQ LSB\n",
    "\n",
    "WriteFPGA(spi,0xE5,0x45) # sEEACQ MSB\n",
    "WriteFPGA(spi,0xE6,0xCC) # sEEACQ LSB\n",
    "\n",
    "WriteFPGA(spi,0xE7,0x01) # sEEPdamp MSB\n",
    "WriteFPGA(spi,0xE8,0xF4) # sEEPdamp LSB\n",
    "WriteFPGA(spi,0xE9,0x00) # sEEPdamp MSB\n",
    "\n",
    "WriteFPGA(spi,0xEE,0x0A) # ncycles LSB \n",
    "WriteFPGA(spi,0xDE,0x00) # ncycles MSB \n",
    "\n",
    "WriteFPGA(spi,0xD4,0x01) # HV setting MSB \n",
    "WriteFPGA(spi,0xD5,0x3A) # HV setting LSB\n"
   ]
  },
  {
   "cell_type": "code",
   "execution_count": 46,
   "metadata": {
    "collapsed": true
   },
   "outputs": [],
   "source": [
    "WriteFPGA(spi,0xD4,0x01) # HV setting MSB \n",
    "WriteFPGA(spi,0xD5,0x3A) # HV setting LSB"
   ]
  },
  {
   "cell_type": "code",
   "execution_count": null,
   "metadata": {
    "collapsed": false
   },
   "outputs": [],
   "source": [
    "while 1:\n",
    "    WriteFPGA(spi,0xEA,0x01)\n",
    "    sleep(0.05)"
   ]
  },
  {
   "cell_type": "code",
   "execution_count": null,
   "metadata": {
    "collapsed": true
   },
   "outputs": [],
   "source": []
  }
 ],
 "metadata": {
  "kernelspec": {
   "display_name": "Python 2",
   "language": "python",
   "name": "python2"
  },
  "language_info": {
   "codemirror_mode": {
    "name": "ipython",
    "version": 2
   },
   "file_extension": ".py",
   "mimetype": "text/x-python",
   "name": "python",
   "nbconvert_exporter": "python",
   "pygments_lexer": "ipython2",
   "version": "2.7.13"
  }
 },
 "nbformat": 4,
 "nbformat_minor": 2
}
