{
 "cells": [
  {
   "cell_type": "markdown",
   "metadata": {},
   "source": [
    "# `20181104a` `20181104b`  `20181104c`- Phantom and probes\n"
   ]
  },
  {
   "cell_type": "code",
   "execution_count": 1,
   "metadata": {},
   "outputs": [
    {
     "name": "stdout",
     "output_type": "stream",
     "text": [
      "pyexiv2 does not exist on RPi\n"
     ]
    }
   ],
   "source": [
    "#!/usr/bin/python\n",
    "import spidev\n",
    "import RPi.GPIO as GPIO\n",
    "import time\n",
    "import numpy as np\n",
    "import matplotlib\n",
    "matplotlib.use('Agg')\n",
    "import matplotlib.pyplot as plt\n",
    "import json\n",
    "import time\n",
    "from pyUn0 import *\n",
    "%matplotlib inline"
   ]
  },
  {
   "cell_type": "code",
   "execution_count": 23,
   "metadata": {},
   "outputs": [],
   "source": [
    "x = us_spi()\n",
    "x.JSON[\"firmware_version\"]=\"f_un0\"\n",
    "x.JSON[\"experiment\"][\"description\"]=\"Trying the blueatl probe\"\n",
    "x.JSON[\"experiment\"][\"probe\"]=\"blueatl\"\n",
    "x.JSON[\"experiment\"][\"target\"] = \"wiretwophantom\"\n",
    "x.JSON[\"experiment\"][\"id\"] = \"20181104c\"\n",
    "x.JSON[\"V\"]=\"50\"\n",
    "x.JSON[\"N\"] = 1 # Experiment ID"
   ]
  },
  {
   "cell_type": "code",
   "execution_count": 24,
   "metadata": {},
   "outputs": [
    {
     "name": "stdout",
     "output_type": "stream",
     "text": [
      "Reset GPIO 23 - Low 1s\n",
      "Reset GPIO 23 - High 0.2s\n",
      "spi.cshigh is False\n",
      "spi mode is 1\n",
      "spi maxspeed is 2000000hz\n",
      "Setting up the DAC\n"
     ]
    }
   ],
   "source": [
    "x.init()                                    # Inits the FPGA\n",
    "\n",
    "Curve = x.CreateDACCurve(200,500,True)[0]   # Sets the DAC, 50mV to 850mv"
   ]
  },
  {
   "cell_type": "code",
   "execution_count": 25,
   "metadata": {},
   "outputs": [],
   "source": [
    "#x.TestSPI(3)\n",
    "x.JSON[\"N\"] = 1 "
   ]
  },
  {
   "cell_type": "code",
   "execution_count": 26,
   "metadata": {},
   "outputs": [
    {
     "name": "stdout",
     "output_type": "stream",
     "text": [
      "Setting up the DAC\n",
      "[300, 310, 320, 330, 340, 350, 360, 370, 380, 390, 400, 410, 420, 430, 440, 450, 460, 470, 480, 490, 500, 510, 520, 530, 540, 550, 560, 570, 580, 590, 600, 610, 620, 630, 640, 650, 660, 670, 680, 0, 0]\n"
     ]
    }
   ],
   "source": [
    "Curve = x.CreateDACCurve(300,700,True)[0]\n",
    "print Curve"
   ]
  },
  {
   "cell_type": "code",
   "execution_count": 27,
   "metadata": {},
   "outputs": [
    {
     "name": "stdout",
     "output_type": "stream",
     "text": [
      "Period between two acquisitions: 250000 us -- 0x3 0xd0 0x90\n"
     ]
    },
    {
     "data": {
      "text/plain": [
       "2500000"
      ]
     },
     "execution_count": 27,
     "metadata": {},
     "output_type": "execute_result"
    }
   ],
   "source": [
    "x.setPeriodAcq(int(2500000))"
   ]
  },
  {
   "cell_type": "code",
   "execution_count": 28,
   "metadata": {},
   "outputs": [
    {
     "name": "stdout",
     "output_type": "stream",
     "text": [
      "Remember to indicate how many lines\n",
      "Number of lines: 384\n",
      "Acquisition frequency set at 21.0 Msps\n",
      "-----\n",
      "Pulse width: 200  ns --  0x14\n",
      "Pulses delay: 300  ns --  0x1e\n",
      "Poff: 2300  ns --  0x0 0xe6\n",
      "Delay between: 55000 ns --  0x1b 0x80\n",
      "Acquisition length:  115000 ns --  0x39 0x80\n",
      "setPulseTrain Lacq 115000\n",
      "        \n",
      "NAcq = 483840\n"
     ]
    }
   ],
   "source": [
    "x.setMultiLines(True)\t\t\t\t        # Multi lines acquisition\t\n",
    "x.setNLines((256+128))\t\t\t\t            # Setting the number of lines\n",
    "x.setMsps(2) \t\t\t\t\t            # Acquisition Freq\n",
    "print(\"-----\")\n",
    "A = x.setTimings(200,100,2000,55000,115000)\t# Settings the series of pulses"
   ]
  },
  {
   "cell_type": "code",
   "execution_count": 29,
   "metadata": {},
   "outputs": [
    {
     "name": "stdout",
     "output_type": "stream",
     "text": [
      "0%\n",
      "10%\n",
      "20%\n",
      "30%\n",
      "40%\n",
      "50%\n",
      "60%\n",
      "70%\n",
      "80%\n",
      "90%\n",
      "100%\n",
      "Took 91.09 seconds to transfer.\n",
      "for 967682 transfers of data\n",
      "20181104c-1.json: file saved.\n"
     ]
    }
   ],
   "source": [
    "x.JSON[\"experiment\"][\"description\"]=\"blue ATL tested with wiretwophantom\"\n",
    "x.JSON[\"data\"] = x.doAcquisition()\n",
    "x.JSON[\"N\"] = x.JSON[\"N\"] + 1 "
   ]
  },
  {
   "cell_type": "code",
   "execution_count": 55,
   "metadata": {},
   "outputs": [
    {
     "name": "stdout",
     "output_type": "stream",
     "text": [
      "6\n"
     ]
    }
   ],
   "source": [
    "LastJSON = x.JSON[\"N\"] -1\n",
    "print LastJSON"
   ]
  },
  {
   "cell_type": "code",
   "execution_count": 56,
   "metadata": {},
   "outputs": [
    {
     "name": "stdout",
     "output_type": "stream",
     "text": [
      "Data acquired\n"
     ]
    }
   ],
   "source": [
    "for MyDataFile in os.listdir(\"./\"):\n",
    "    if MyDataFile.endswith(str(LastJSON)+\".json\"):\n",
    "        y = us_json()\n",
    "        y.JSONprocessing(\"./\"+MyDataFile)"
   ]
  },
  {
   "cell_type": "code",
   "execution_count": 57,
   "metadata": {},
   "outputs": [
    {
     "name": "stdout",
     "output_type": "stream",
     "text": [
      "11970\n"
     ]
    }
   ],
   "source": [
    "print(len(y.tmp))"
   ]
  },
  {
   "cell_type": "code",
   "execution_count": 58,
   "metadata": {},
   "outputs": [
    {
     "data": {
      "image/png": "[encoded data removed]",
      "text/plain": [
       "<matplotlib.figure.Figure at 0xae57a0d0>"
      ]
     },
     "metadata": {},
     "output_type": "display_data"
    }
   ],
   "source": [
    "plt.plot(y.tmp)\n",
    "plt.plot(y.IDLine)\n",
    "plt.show()"
   ]
  },
  {
   "cell_type": "code",
   "execution_count": 34,
   "metadata": {},
   "outputs": [
    {
     "data": {
      "text/plain": [
       "(3, 3)"
      ]
     },
     "execution_count": 34,
     "metadata": {},
     "output_type": "execute_result"
    }
   ],
   "source": [
    "x.NLines, y.Nacq"
   ]
  },
  {
   "cell_type": "code",
   "execution_count": null,
   "metadata": {},
   "outputs": [],
   "source": []
  }
 ],
 "metadata": {
  "kernelspec": {
   "display_name": "Python 2",
   "language": "python",
   "name": "python2"
  },
  "language_info": {
   "codemirror_mode": {
    "name": "ipython",
    "version": 2
   },
   "file_extension": ".py",
   "mimetype": "text/x-python",
   "name": "python",
   "nbconvert_exporter": "python",
   "pygments_lexer": "ipython2",
   "version": "2.7.13"
  }
 },
 "nbformat": 4,
 "nbformat_minor": 2
}
