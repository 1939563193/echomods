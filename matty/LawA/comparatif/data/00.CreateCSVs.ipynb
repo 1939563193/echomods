{
 "cells": [
  {
   "cell_type": "code",
   "execution_count": 2,
   "metadata": {},
   "outputs": [],
   "source": [
    "import pyUn0 # for 20180721a-4.json\n",
    "import json\n",
    "import time\n",
    "import datetime\n",
    "import os,glob\n",
    "import sys,re\n",
    "import spidev\n",
    "import numpy as np\n",
    "import matplotlib\n",
    "matplotlib.use('TkAgg') \n",
    "import math\n",
    "import matplotlib.pyplot as plt\n",
    "from scipy.signal import hilbert"
   ]
  },
  {
   "cell_type": "code",
   "execution_count": null,
   "metadata": {},
   "outputs": [],
   "source": [
    "20180721a-4.json # First acqs\n",
    "20191027b-1_vhdl.json # lit3rick - vhdl\n",
    "verilog_minie.dat # lit3rick - verilog"
   ]
  },
  {
   "cell_type": "code",
   "execution_count": 41,
   "metadata": {},
   "outputs": [
    {
     "name": "stdout",
     "output_type": "stream",
     "text": [
      "37762 18881.0 18880\n",
      "Data acquired\n"
     ]
    }
   ],
   "source": [
    "IDLine = []\n",
    "TT1 = []\n",
    "TT2 = []\n",
    "tmp = []\n",
    "tdac = []\n",
    "\n",
    "with open(\"20191027b-1_vhdl.json\") as json_data:\n",
    "    #DATA = {}\n",
    "    d = json.load(json_data)\n",
    "    json_data.close()\n",
    " \n",
    "\n",
    "    A = d[\"data\"]\n",
    "\n",
    "    #print d.keys()\n",
    "    nLp = int( (len(A)/2-1) ) \n",
    "    print(len(A),len(A)/2, nLp)\n",
    "    for i in range( nLp ):\n",
    "        if (A[2*i+1]) < 128:\n",
    "        #print(\"first\")\n",
    "            value = 128*(A[2*i+0]&0b0011111) + A[2*i+1] - 512\n",
    "            IDLine.append(((A[2*i+0]&0b11110000)/16  -8) /2) # Identify the # of the line\n",
    "            TT1.append((A[2*i+0] & 0b00001000) / 0b1000)\n",
    "            TT2.append((A[2*i+0] & 0b00010000) / 0b10000)\n",
    "            tmp.append(value)\n",
    "        else:\n",
    "        #print(\"second\")\n",
    "            value = 128*(A[2*i+1]&0b11111) + A[2*i+2] - 512\n",
    "            IDLine.append(((A[2*i+1]&0b11110000)/16 -8) /2) # Identify the # of the line\n",
    "            TT1.append((A[2*i+1] & 0b00001000) / 0b1000)\n",
    "            TT2.append((A[2*i+1] & 0b00010000) / 0b10000)\n",
    "            tmp.append(value)\n",
    "    print(\"Data acquired\") \n",
    "    f = float(64/((1.0+int(d[\"registers\"][\"237\"])))) \n",
    "\n",
    "    for i in range(len(IDLine)):\n",
    "        if IDLine[i] < 0:\n",
    "            IDLine[i] = 0\n",
    "    LengthT = len(tmp)\n",
    "\n",
    "    #self.EnvHil = self.filtered_signal\n",
    "    #self.EnvHil = np.asarray(np.abs(signal.rrt(self.filtered_signal)))\n",
    " \n",
    "    len_acq = LengthT\n",
    "    len_line = int(LengthT)\n",
    "\n",
    "\n",
    "    # Precising the DAC\n",
    "    REG = [int(x) for x in d[\"registers\"].keys() if int(x) < 100]\n",
    "    REG.sort()\n",
    "    dac = []\n",
    "    for k in REG:\n",
    "        dac.append(d[\"registers\"][str(k)])\n",
    "    # Building the DAC timeline\n",
    "    tdac = []\n",
    "    for pts in range(128*64): # @todo -> corriger pour avoir une ligne de 200us\n",
    "        i = int(pts/5.0) # time in us\n",
    "\n",
    "        try:\n",
    "            tdac.append(4.0*d[\"registers\"][str(i+16)])\n",
    "        except:\n",
    "            tdac.append(-1)"
   ]
  },
  {
   "cell_type": "code",
   "execution_count": 43,
   "metadata": {},
   "outputs": [],
   "source": [
    "plt.plot(range(128*64), tmp[0:128*64], 'b-')\n",
    "plt.plot(range(128*64), tdac[0:128*64], 'g-')\n",
    "plt.show()"
   ]
  },
  {
   "cell_type": "code",
   "execution_count": 44,
   "metadata": {},
   "outputs": [],
   "source": [
    "toSave = np.asarray(tmp[0:128*64])\n",
    "dataSet = '20191027b-1'\n",
    "np.savez_compressed('20191027b-1', a=toSave, b=dataSet)"
   ]
  },
  {
   "cell_type": "code",
   "execution_count": 37,
   "metadata": {},
   "outputs": [
    {
     "data": {
      "text/plain": [
       "array([-266,  -10,  -12, ...,  -11,  -10,  -12])"
      ]
     },
     "execution_count": 37,
     "metadata": {},
     "output_type": "execute_result"
    }
   ],
   "source": []
  },
  {
   "cell_type": "code",
   "execution_count": 47,
   "metadata": {},
   "outputs": [],
   "source": [
    "def bytes_from_file(filename, chunksize=8192):\n",
    "    with open(filename, \"rb\") as f:\n",
    "        while True:\n",
    "            chunk = f.read(chunksize)\n",
    "            if chunk:\n",
    "                for b in chunk:\n",
    "                    yield b\n",
    "            else:\n",
    "                break\n",
    "                \n",
    "FN = 'verilog_minie.dat'\n",
    "\n",
    "RES = []\n",
    "i = 0\n",
    "\n",
    "Pon = []\n",
    "Poff = []\n",
    "res = 0\n",
    "# example:\n",
    "for by in bytes_from_file(FN):\n",
    "    if not(i):\n",
    "        a = int(by)\n",
    "        A = math.floor(a/2)\n",
    "        Poff.append(3000*( A & 0b1000000) >> 6)\n",
    "        Pon.append(3000*(A & 0b0100000) >> 5)\n",
    "        A = A & 0b0011111\n",
    "\n",
    "    if not(i%2):\n",
    "        b = int(by)\n",
    "        #B = int('{:08b}'.format(b)[::-1], 2)\n",
    "        B = int(b/2)\n",
    "    else:\n",
    "        a = int(by)\n",
    "        A = math.floor(a/2)\n",
    "        Poff.append(3000*( A & 0b1000000) >> 6)\n",
    "        Pon.append(3000*(A & 0b0100000) >> 5)\n",
    "        A = A & 0b0011111\n",
    "        #AA = int('{:07b}'.format(A)[::-1], 2)\n",
    "        #AA = int.from_bytes(A, 'big')\n",
    "        \n",
    "        C = (A << 7) | B\n",
    "        #CC = (DD << 7) | AA\n",
    "        #print(i/2,\": \",c, a,b,\". Corrected \",A,B,\". Binary:\",bin(A),bin(B),bin(D),bin(C))#bin(a),bin(b))\n",
    "        #print(int(i/2),hex(b),hex(a),\": \",\"\\tBinary\\t:\",bin(a),bin(A),\"\\t\",bin(b),bin(B),bin(D))#bin(a),bin(b))\n",
    "        #print(int(i/2),\": \\t\\t\\t\",bin(A),\"\\t\",bin(B),\"\\t\",bin(C),hex(C),C)\n",
    "        RES.append(C-2048)\n",
    "        #print(res)\n",
    "        res = 0\n",
    "    i+=1"
   ]
  },
  {
   "cell_type": "code",
   "execution_count": 48,
   "metadata": {},
   "outputs": [],
   "source": [
    "plt.plot(range(128*64), RES[0:128*64], 'b-') \n",
    "plt.show()"
   ]
  },
  {
   "cell_type": "code",
   "execution_count": 49,
   "metadata": {},
   "outputs": [],
   "source": [
    "toSave = np.asarray(RES[0:128*64])\n",
    "dataSet = '20200112a-1'\n",
    "np.savez_compressed('20200112a-1', a=toSave, b=dataSet)"
   ]
  },
  {
   "cell_type": "code",
   "execution_count": null,
   "metadata": {},
   "outputs": [],
   "source": []
  }
 ],
 "metadata": {
  "kernelspec": {
   "display_name": "Python 2",
   "language": "python",
   "name": "python2"
  },
  "language_info": {
   "codemirror_mode": {
    "name": "ipython",
    "version": 3
   },
   "file_extension": ".py",
   "mimetype": "text/x-python",
   "name": "python",
   "nbconvert_exporter": "python",
   "pygments_lexer": "ipython3",
   "version": "3.6.9"
  }
 },
 "nbformat": 4,
 "nbformat_minor": 4
}
